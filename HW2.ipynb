{
 "cells": [
  {
   "cell_type": "code",
   "execution_count": 9,
   "id": "bc7bc27e",
   "metadata": {},
   "outputs": [],
   "source": [
    "import pandas as pd\n",
    "import numpy as np\n",
    "import matplotlib.pyplot as plt\n",
    "import statsmodels.api as sm\n",
    "import statsmodels.formula.api as smf\n"
   ]
  },
  {
   "cell_type": "markdown",
   "id": "580f3652",
   "metadata": {},
   "source": [
    "## Question 1 & 2"
   ]
  },
  {
   "cell_type": "code",
   "execution_count": 10,
   "id": "f743c56b",
   "metadata": {},
   "outputs": [],
   "source": [
    "df_2_1 = pd.read_csv('homework_2.1.csv')"
   ]
  },
  {
   "cell_type": "code",
   "execution_count": 11,
   "id": "c0d18a8f",
   "metadata": {},
   "outputs": [
    {
     "name": "stdout",
     "output_type": "stream",
     "text": [
      "                            OLS Regression Results                            \n",
      "==============================================================================\n",
      "Dep. Variable:                outcome   R-squared:                       0.311\n",
      "Model:                            OLS   Adj. R-squared:                  0.304\n",
      "Method:                 Least Squares   F-statistic:                     44.55\n",
      "Date:                Mon, 26 May 2025   Prob (F-statistic):           8.72e-24\n",
      "Time:                        17:33:43   Log-Likelihood:                -216.89\n",
      "No. Observations:                 300   AIC:                             441.8\n",
      "Df Residuals:                     296   BIC:                             456.6\n",
      "Df Model:                           3                                         \n",
      "Covariance Type:            nonrobust                                         \n",
      "==================================================================================\n",
      "                     coef    std err          t      P>|t|      [0.025      0.975]\n",
      "----------------------------------------------------------------------------------\n",
      "Intercept          0.0786      0.071      1.112      0.267      -0.060       0.218\n",
      "C(group)[T.G2]     0.5111      0.071      7.200      0.000       0.371       0.651\n",
      "C(group)[T.G3]     0.1905      0.071      2.683      0.008       0.051       0.330\n",
      "time               0.0090      0.001      8.982      0.000       0.007       0.011\n",
      "==============================================================================\n",
      "Omnibus:                        2.113   Durbin-Watson:                   2.062\n",
      "Prob(Omnibus):                  0.348   Jarque-Bera (JB):                1.817\n",
      "Skew:                           0.066   Prob(JB):                        0.403\n",
      "Kurtosis:                       2.642   Cond. No.                         198.\n",
      "==============================================================================\n",
      "\n",
      "Notes:\n",
      "[1] Standard Errors assume that the covariance matrix of the errors is correctly specified.\n",
      "\n",
      "Fixed effects for each group:\n",
      "C(group)[T.G2]    0.511102\n",
      "C(group)[T.G3]    0.190480\n",
      "dtype: float64\n",
      "\n",
      "Coefficient for time: 0.009017213376458716\n"
     ]
    }
   ],
   "source": [
    "# Reshape to long format\n",
    "df_long = df_2_1.melt(id_vars=['time'], value_vars=['G1', 'G2', 'G3'], \n",
    "                 var_name='group', value_name='outcome')\n",
    "\n",
    "# Fit fixed effects regression: outcome ~ time + group\n",
    "model_2_1 = smf.ols('outcome ~ time + C(group)', data=df_long).fit()\n",
    "print(model_2_1.summary())\n",
    "\n",
    "# Display estimated fixed effects for each group\n",
    "fe = model_2_1.params.filter(like='C(group)')\n",
    "print('\\nFixed effects for each group:')\n",
    "print(fe)\n",
    "\n",
    "# Display the coefficient for time\n",
    "print(f\"\\nCoefficient for time: {model_2_1.params['time']}\")"
   ]
  },
  {
   "cell_type": "markdown",
   "id": "37ef4613",
   "metadata": {},
   "source": [
    "## Question 3-5"
   ]
  },
  {
   "cell_type": "code",
   "execution_count": 5,
   "id": "83c6de39",
   "metadata": {},
   "outputs": [],
   "source": [
    "df_2_2 = pd.read_csv('homework_2.2.csv')"
   ]
  },
  {
   "cell_type": "code",
   "execution_count": 6,
   "id": "6c2c78c4",
   "metadata": {},
   "outputs": [
    {
     "name": "stdout",
     "output_type": "stream",
     "text": [
      "Bootstrap mean difference: 2.924\n",
      "95% CI: [2.569, 3.285]\n"
     ]
    },
    {
     "data": {
      "image/png": "[encoded data removed]",
      "text/plain": [
       "<Figure size 800x400 with 1 Axes>"
      ]
     },
     "metadata": {},
     "output_type": "display_data"
    }
   ],
   "source": [
    "# Bootstrap simulation for mean difference in Y between X=1 and X=0\n",
    "def bootstrap_mean_diff(df, n_bootstrap=1000, random_state=42):\n",
    "    np.random.seed(random_state)\n",
    "    diffs = []\n",
    "    group1 = df[df['X'] == 1]['Y'].values\n",
    "    group0 = df[df['X'] == 0]['Y'].values\n",
    "    n1 = len(group1)\n",
    "    n0 = len(group0)\n",
    "    for _ in range(n_bootstrap):\n",
    "        sample1 = np.random.choice(group1, size=n1, replace=True)\n",
    "        sample0 = np.random.choice(group0, size=n0, replace=True)\n",
    "        diffs.append(sample1.mean() - sample0.mean())\n",
    "    return np.array(diffs)\n",
    "\n",
    "# Run bootstrap\n",
    "boot_diffs = bootstrap_mean_diff(df_2_2, n_bootstrap=2000)\n",
    "\n",
    "# Calculate 95% confidence interval\n",
    "ci_lower = np.percentile(boot_diffs, 2.5)\n",
    "ci_upper = np.percentile(boot_diffs, 97.5)\n",
    "mean_diff = boot_diffs.mean()\n",
    "\n",
    "print(f\"Bootstrap mean difference: {mean_diff:.3f}\")\n",
    "print(f\"95% CI: [{ci_lower:.3f}, {ci_upper:.3f}]\")\n",
    "\n",
    "# Plot the bootstrap distribution\n",
    "plt.figure(figsize=(8,4))\n",
    "plt.hist(boot_diffs, bins=40, color='skyblue', edgecolor='k', alpha=0.7)\n",
    "plt.axvline(ci_lower, color='red', linestyle='--', label='95% CI Lower')\n",
    "plt.axvline(ci_upper, color='red', linestyle='--', label='95% CI Upper')\n",
    "plt.axvline(mean_diff, color='green', linestyle='-', label='Mean Diff')\n",
    "plt.title('Bootstrap Distribution of Mean Difference (Y: X=1 vs X=0)')\n",
    "plt.xlabel('Mean Difference')\n",
    "plt.ylabel('Frequency')\n",
    "plt.legend()\n",
    "plt.show()"
   ]
  },
  {
   "cell_type": "code",
   "execution_count": 7,
   "id": "49337fab",
   "metadata": {},
   "outputs": [
    {
     "name": "stdout",
     "output_type": "stream",
     "text": [
      "Mean outcome (Treated, X=1): 7.843\n",
      "Mean outcome (Untreated, X=0): 4.922\n",
      "Simple difference in means (Treated - Untreated): 2.921\n"
     ]
    }
   ],
   "source": [
    "mean_treated = df_2_2[df_2_2['X'] == 1]['Y'].mean()\n",
    "mean_untreated = df_2_2[df_2_2['X'] == 0]['Y'].mean()\n",
    "simple_diff = mean_treated - mean_untreated\n",
    "\n",
    "print(f\"Mean outcome (Treated, X=1): {mean_treated:.3f}\")\n",
    "print(f\"Mean outcome (Untreated, X=0): {mean_untreated:.3f}\")\n",
    "print(f\"Simple difference in means (Treated - Untreated): {simple_diff:.3f}\")"
   ]
  }
 ],
 "metadata": {
  "kernelspec": {
   "display_name": ".venv",
   "language": "python",
   "name": "python3"
  },
  "language_info": {
   "codemirror_mode": {
    "name": "ipython",
    "version": 3
   },
   "file_extension": ".py",
   "mimetype": "text/x-python",
   "name": "python",
   "nbconvert_exporter": "python",
   "pygments_lexer": "ipython3",
   "version": "3.12.4"
  }
 },
 "nbformat": 4,
 "nbformat_minor": 5
}
