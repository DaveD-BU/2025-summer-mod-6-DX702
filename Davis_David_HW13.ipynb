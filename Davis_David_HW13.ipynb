{
 "cells": [
  {
   "cell_type": "code",
   "execution_count": 1,
   "id": "dcf5c7b3",
   "metadata": {},
   "outputs": [],
   "source": [
    "import numpy as np\n",
    "import pandas as pd\n",
    "\n",
    "import statsmodels.formula.api as smf\n",
    "import statsmodels.api as sm\n",
    "\n",
    "import matplotlib.pyplot as plt"
   ]
  },
  {
   "cell_type": "markdown",
   "id": "65bad8d0",
   "metadata": {},
   "source": [
    "Question 1\n",
    "\n",
    "Use instrumental variables to find the effect of X on Z in homework_13.1.csv. Which of these is the closest? "
   ]
  },
  {
   "cell_type": "code",
   "execution_count": 2,
   "id": "b60f1501",
   "metadata": {},
   "outputs": [],
   "source": [
    "# Load data\n",
    "df = pd.read_csv('homework_13.1.csv')"
   ]
  },
  {
   "cell_type": "code",
   "execution_count": 3,
   "id": "160fa495",
   "metadata": {},
   "outputs": [
    {
     "name": "stdout",
     "output_type": "stream",
     "text": [
      "const    0.361379\n",
      "0        0.222003\n",
      "dtype: float64\n"
     ]
    }
   ],
   "source": [
    "Xhat = sm.OLS(df[\"X\"], sm.add_constant(df[\"Y\"])).fit().fittedvalues\n",
    "\n",
    "# 2nd stage: Z ~ 1 + X̂  → IV estimate is coef on X̂\n",
    "iv = sm.OLS(df[\"Z\"], sm.add_constant(Xhat)).fit(cov_type=\"HC1\")\n",
    "print(iv.params)            # effect of X on Z is iv.params[1]"
   ]
  },
  {
   "cell_type": "markdown",
   "id": "9a43f3ec",
   "metadata": {},
   "source": [
    "## Question 2\n",
    "\n",
    "Use two-stage least squares to find the effect of X2 on Y2 in homework_13.2.csv. Which of these is the closest? "
   ]
  },
  {
   "cell_type": "code",
   "execution_count": 5,
   "id": "ae1c755d",
   "metadata": {},
   "outputs": [],
   "source": [
    "# Load data\n",
    "df = pd.read_csv('homework_13.2.csv')"
   ]
  },
  {
   "cell_type": "code",
   "execution_count": 7,
   "id": "b5b7f5f6",
   "metadata": {},
   "outputs": [
    {
     "name": "stdout",
     "output_type": "stream",
     "text": [
      "2SLS coef on X2 (manual): -2.502618970813034\n"
     ]
    }
   ],
   "source": [
    "# First stage: X2 ~ 1 + Z2  → get fitted X2 (X2_hat)\n",
    "X2_hat = sm.OLS(df[\"X2\"], sm.add_constant(df[\"Z2\"])).fit().fittedvalues\n",
    "\n",
    "# Second stage: Y2 ~ 1 + X2_hat  → IV estimate is coef on X2_hat\n",
    "iv = sm.OLS(df[\"Y2\"], sm.add_constant(X2_hat)).fit(cov_type=\"HC1\")\n",
    "print(\"2SLS coef on X2 (manual):\", iv.params.iloc[1])"
   ]
  },
  {
   "cell_type": "markdown",
   "id": "fd705f62",
   "metadata": {},
   "source": [
    "## Question 3\n",
    "\n",
    "In homework_13.3.csv, which are the compliers? Recall that for a complier, changing the Z value from 0 to 1 would increase the likely value of X. Here, ZW_int = Z3 * W3. All confounders are given in this case, so you can use linear regression to understand the situation. (2SLS is not necessary.) "
   ]
  },
  {
   "cell_type": "code",
   "execution_count": 8,
   "id": "d8d5c654",
   "metadata": {},
   "outputs": [],
   "source": [
    "# Load data\n",
    "df = pd.read_csv('homework_13.3.csv')"
   ]
  },
  {
   "cell_type": "code",
   "execution_count": null,
   "id": "f0e904b9",
   "metadata": {},
   "outputs": [
    {
     "ename": "KeyError",
     "evalue": "\"['const'] not in index\"",
     "output_type": "error",
     "traceback": [
      "\u001b[31m---------------------------------------------------------------------------\u001b[39m",
      "\u001b[31mKeyError\u001b[39m                                  Traceback (most recent call last)",
      "\u001b[36mCell\u001b[39m\u001b[36m \u001b[39m\u001b[32mIn[10]\u001b[39m\u001b[32m, line 15\u001b[39m\n\u001b[32m     12\u001b[39m df0[\u001b[33m\"\u001b[39m\u001b[33mZ3\u001b[39m\u001b[33m\"\u001b[39m] = \u001b[32m0\u001b[39m\n\u001b[32m     13\u001b[39m df0[\u001b[33m\"\u001b[39m\u001b[33mZW_int\u001b[39m\u001b[33m\"\u001b[39m] = df0[\u001b[33m\"\u001b[39m\u001b[33mZ3\u001b[39m\u001b[33m\"\u001b[39m] * df0[\u001b[33m\"\u001b[39m\u001b[33mW3\u001b[39m\u001b[33m\"\u001b[39m]\n\u001b[32m---> \u001b[39m\u001b[32m15\u001b[39m pred1 = model.predict(\u001b[43mdf1\u001b[49m\u001b[43m[\u001b[49m\u001b[43m[\u001b[49m\u001b[33;43m\"\u001b[39;49m\u001b[33;43mconst\u001b[39;49m\u001b[33;43m\"\u001b[39;49m\u001b[43m,\u001b[49m\u001b[43m \u001b[49m\u001b[33;43m\"\u001b[39;49m\u001b[33;43mZ3\u001b[39;49m\u001b[33;43m\"\u001b[39;49m\u001b[43m,\u001b[49m\u001b[43m \u001b[49m\u001b[33;43m\"\u001b[39;49m\u001b[33;43mW3\u001b[39;49m\u001b[33;43m\"\u001b[39;49m\u001b[43m,\u001b[49m\u001b[43m \u001b[49m\u001b[33;43m\"\u001b[39;49m\u001b[33;43mZW_int\u001b[39;49m\u001b[33;43m\"\u001b[39;49m\u001b[43m]\u001b[49m\u001b[43m]\u001b[49m)\n\u001b[32m     16\u001b[39m pred0 = model.predict(df0[[\u001b[33m\"\u001b[39m\u001b[33mconst\u001b[39m\u001b[33m\"\u001b[39m, \u001b[33m\"\u001b[39m\u001b[33mZ3\u001b[39m\u001b[33m\"\u001b[39m, \u001b[33m\"\u001b[39m\u001b[33mW3\u001b[39m\u001b[33m\"\u001b[39m, \u001b[33m\"\u001b[39m\u001b[33mZW_int\u001b[39m\u001b[33m\"\u001b[39m]])\n\u001b[32m     18\u001b[39m \u001b[38;5;66;03m# Change in predicted X when Z changes from 0 to 1\u001b[39;00m\n",
      "\u001b[36mFile \u001b[39m\u001b[32mc:\\repos\\BU MSDS Repo\\DX702\\2025-summer-mod-6-DX702\\.venv\\Lib\\site-packages\\pandas\\core\\frame.py:4113\u001b[39m, in \u001b[36mDataFrame.__getitem__\u001b[39m\u001b[34m(self, key)\u001b[39m\n\u001b[32m   4111\u001b[39m     \u001b[38;5;28;01mif\u001b[39;00m is_iterator(key):\n\u001b[32m   4112\u001b[39m         key = \u001b[38;5;28mlist\u001b[39m(key)\n\u001b[32m-> \u001b[39m\u001b[32m4113\u001b[39m     indexer = \u001b[38;5;28;43mself\u001b[39;49m\u001b[43m.\u001b[49m\u001b[43mcolumns\u001b[49m\u001b[43m.\u001b[49m\u001b[43m_get_indexer_strict\u001b[49m\u001b[43m(\u001b[49m\u001b[43mkey\u001b[49m\u001b[43m,\u001b[49m\u001b[43m \u001b[49m\u001b[33;43m\"\u001b[39;49m\u001b[33;43mcolumns\u001b[39;49m\u001b[33;43m\"\u001b[39;49m\u001b[43m)\u001b[49m[\u001b[32m1\u001b[39m]\n\u001b[32m   4115\u001b[39m \u001b[38;5;66;03m# take() does not accept boolean indexers\u001b[39;00m\n\u001b[32m   4116\u001b[39m \u001b[38;5;28;01mif\u001b[39;00m \u001b[38;5;28mgetattr\u001b[39m(indexer, \u001b[33m\"\u001b[39m\u001b[33mdtype\u001b[39m\u001b[33m\"\u001b[39m, \u001b[38;5;28;01mNone\u001b[39;00m) == \u001b[38;5;28mbool\u001b[39m:\n",
      "\u001b[36mFile \u001b[39m\u001b[32mc:\\repos\\BU MSDS Repo\\DX702\\2025-summer-mod-6-DX702\\.venv\\Lib\\site-packages\\pandas\\core\\indexes\\base.py:6212\u001b[39m, in \u001b[36mIndex._get_indexer_strict\u001b[39m\u001b[34m(self, key, axis_name)\u001b[39m\n\u001b[32m   6209\u001b[39m \u001b[38;5;28;01melse\u001b[39;00m:\n\u001b[32m   6210\u001b[39m     keyarr, indexer, new_indexer = \u001b[38;5;28mself\u001b[39m._reindex_non_unique(keyarr)\n\u001b[32m-> \u001b[39m\u001b[32m6212\u001b[39m \u001b[38;5;28;43mself\u001b[39;49m\u001b[43m.\u001b[49m\u001b[43m_raise_if_missing\u001b[49m\u001b[43m(\u001b[49m\u001b[43mkeyarr\u001b[49m\u001b[43m,\u001b[49m\u001b[43m \u001b[49m\u001b[43mindexer\u001b[49m\u001b[43m,\u001b[49m\u001b[43m \u001b[49m\u001b[43maxis_name\u001b[49m\u001b[43m)\u001b[49m\n\u001b[32m   6214\u001b[39m keyarr = \u001b[38;5;28mself\u001b[39m.take(indexer)\n\u001b[32m   6215\u001b[39m \u001b[38;5;28;01mif\u001b[39;00m \u001b[38;5;28misinstance\u001b[39m(key, Index):\n\u001b[32m   6216\u001b[39m     \u001b[38;5;66;03m# GH 42790 - Preserve name from an Index\u001b[39;00m\n",
      "\u001b[36mFile \u001b[39m\u001b[32mc:\\repos\\BU MSDS Repo\\DX702\\2025-summer-mod-6-DX702\\.venv\\Lib\\site-packages\\pandas\\core\\indexes\\base.py:6264\u001b[39m, in \u001b[36mIndex._raise_if_missing\u001b[39m\u001b[34m(self, key, indexer, axis_name)\u001b[39m\n\u001b[32m   6261\u001b[39m     \u001b[38;5;28;01mraise\u001b[39;00m \u001b[38;5;167;01mKeyError\u001b[39;00m(\u001b[33mf\u001b[39m\u001b[33m\"\u001b[39m\u001b[33mNone of [\u001b[39m\u001b[38;5;132;01m{\u001b[39;00mkey\u001b[38;5;132;01m}\u001b[39;00m\u001b[33m] are in the [\u001b[39m\u001b[38;5;132;01m{\u001b[39;00maxis_name\u001b[38;5;132;01m}\u001b[39;00m\u001b[33m]\u001b[39m\u001b[33m\"\u001b[39m)\n\u001b[32m   6263\u001b[39m not_found = \u001b[38;5;28mlist\u001b[39m(ensure_index(key)[missing_mask.nonzero()[\u001b[32m0\u001b[39m]].unique())\n\u001b[32m-> \u001b[39m\u001b[32m6264\u001b[39m \u001b[38;5;28;01mraise\u001b[39;00m \u001b[38;5;167;01mKeyError\u001b[39;00m(\u001b[33mf\u001b[39m\u001b[33m\"\u001b[39m\u001b[38;5;132;01m{\u001b[39;00mnot_found\u001b[38;5;132;01m}\u001b[39;00m\u001b[33m not in index\u001b[39m\u001b[33m\"\u001b[39m)\n",
      "\u001b[31mKeyError\u001b[39m: \"['const'] not in index\""
     ]
    }
   ],
   "source": [
    "# First-stage regression: X3 ~ Z3 + W3 + ZW_int\n",
    "X = sm.add_constant(df[[\"Z3\",\"W3\",\"ZW_int\"]])\n",
    "model = sm.OLS(df[\"X3\"], X).fit()\n",
    "\n",
    "# Predict X3 if Z3 = 1 and if Z3 = 0 (holding W3 fixed)\n",
    "df_pred = df.copy()\n",
    "df1 = df.copy()\n",
    "df1[\"Z3\"] = 1\n",
    "df1[\"ZW_int\"] = df1[\"Z3\"] * df1[\"W3\"]\n",
    "\n",
    "df0 = df.copy()\n",
    "df0[\"Z3\"] = 0\n",
    "df0[\"ZW_int\"] = df0[\"Z3\"] * df0[\"W3\"]\n",
    "\n",
    "pred1 = model.predict(sm.add_constant(df1[[\"Z3\",\"W3\",\"ZW_int\"]]))\n",
    "pred0 = model.predict(sm.add_constant(df0[[\"Z3\",\"W3\",\"ZW_int\"]]))\n",
    "\n",
    "# Change in predicted X when Z changes from 0 to 1\n",
    "df[\"delta_X\"] = pred1 - pred0\n",
    "\n",
    "# Mark compliers: delta_X > 0\n",
    "df[\"complier\"] = df[\"delta_X\"] > 0\n",
    "\n",
    "print(df[[\"Z3\",\"X3\",\"W3\",\"delta_X\",\"complier\"]])"
   ]
  },
  {
   "cell_type": "markdown",
   "id": "19ae5ee9",
   "metadata": {},
   "source": [
    "## Question 4\n",
    "\n",
    "```python\n",
    "Z4 = np.random.normal(0, 1, num)\n",
    "W4 = np.random.normal(0, 1, num)\n",
    "ZW_int = W4 * Z4\n",
    "X4 = Z4 + W4 - 2 * ZW_int + np.random.normal(0, 1, num)\n",
    "Y4 = W4 + X4 - Z4 + np.random.normal(0, 1, num)\n",
    "```\n",
    "\n",
    "Is the instrument Z4 valid? If not, which of the following is a reason that it is invalid? "
   ]
  }
 ],
 "metadata": {
  "kernelspec": {
   "display_name": ".venv",
   "language": "python",
   "name": "python3"
  },
  "language_info": {
   "codemirror_mode": {
    "name": "ipython",
    "version": 3
   },
   "file_extension": ".py",
   "mimetype": "text/x-python",
   "name": "python",
   "nbconvert_exporter": "python",
   "pygments_lexer": "ipython3",
   "version": "3.12.4"
  }
 },
 "nbformat": 4,
 "nbformat_minor": 5
}
