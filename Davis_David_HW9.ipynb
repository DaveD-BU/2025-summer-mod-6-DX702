{
 "cells": [
  {
   "cell_type": "code",
   "execution_count": 23,
   "id": "a2d5c7f4",
   "metadata": {},
   "outputs": [],
   "source": [
    "import numpy as np\n",
    "import pandas as pd\n",
    "import statsmodels.api as sm\n",
    "from scipy.stats import skew\n"
   ]
  },
  {
   "cell_type": "code",
   "execution_count": null,
   "id": "48f5c4b5",
   "metadata": {},
   "outputs": [],
   "source": [
    "def simulate(A=1, B=1, C=10, D=1000):\n",
    "  W = np.random.normal(0,1,D)\n",
    "  X = W+np.random.normal(0,B,D)\n",
    "  Y = A*X-W+np.random.normal(0,C,D)\n",
    "  return Y, X, W"
   ]
  },
  {
   "cell_type": "markdown",
   "id": "f719623f",
   "metadata": {},
   "source": [
    "## Question 1\n",
    "\n",
    "Which of the following is closest to the probability of detecting a nonzero effect of ﻿X﻿ on ﻿Y﻿ (the t-value of ﻿X﻿ is greater in absolute value than about 1.96) given A = 1, B = 1, C = 10, D = 1000? Include W in the regression."
   ]
  },
  {
   "cell_type": "code",
   "execution_count": 18,
   "id": "5d8019f9",
   "metadata": {},
   "outputs": [],
   "source": [
    "def get_t_value(Y, X, W):\n",
    "    df = pd.DataFrame({'Y': Y, 'X': X, 'W': W})\n",
    "    X_mat = sm.add_constant(df[['X', 'W']])\n",
    "    model = sm.OLS(df['Y'], X_mat).fit()\n",
    "    t_value_X = model.tvalues['X']\n",
    "    return t_value_X"
   ]
  },
  {
   "cell_type": "code",
   "execution_count": 19,
   "id": "3817a7ff",
   "metadata": {},
   "outputs": [],
   "source": [
    "num_simulations=1000\n",
    "A=1\n",
    "B=1\n",
    "C=10\n",
    "D=1000\n",
    "\n",
    "count_significant = 0\n",
    "for _ in range(num_simulations):\n",
    "    Y, X, W = simulate(A, B, C, D)\n",
    "    t_val = get_t_value(Y, X, W)\n",
    "    if abs(t_val) > 1.96:\n",
    "        count_significant += 1\n",
    "probability = count_significant / num_simulations"
   ]
  },
  {
   "cell_type": "code",
   "execution_count": null,
   "id": "9f6f3e72",
   "metadata": {},
   "outputs": [
    {
     "name": "stdout",
     "output_type": "stream",
     "text": [
      "Estimated probability of detecting nonzero X effect: 0.887\n"
     ]
    }
   ],
   "source": [
    "print(f\"Estimated probability of detecting nonzero X effect: {probability:.3f}\")"
   ]
  },
  {
   "cell_type": "markdown",
   "id": "17240234",
   "metadata": {},
   "source": [
    "## Question 2\n",
    "\n",
    "Which of the following is closest to the skew of the estimate in that case? (You can compute this using scipy.)"
   ]
  },
  {
   "cell_type": "code",
   "execution_count": 17,
   "id": "35e5fd48",
   "metadata": {},
   "outputs": [
    {
     "name": "stdout",
     "output_type": "stream",
     "text": [
      "Skewness of beta_X estimates: 0.083\n"
     ]
    }
   ],
   "source": [
    "betas = []\n",
    "for _ in range(num_simulations):\n",
    "    Y, X, W = simulate(A, B, C, D)\n",
    "    df = pd.DataFrame({'Y': Y, 'X': X, 'W': W})\n",
    "    X_mat = sm.add_constant(df[['X', 'W']])\n",
    "    model = sm.OLS(df['Y'], X_mat).fit()\n",
    "    beta_X = model.params['X']\n",
    "    betas.append(beta_X)\n",
    "\n",
    "beta_skewness = skew(np.array(betas))\n",
    "print(f\"Skewness of beta_X estimates: {beta_skewness:.3f}\")\n"
   ]
  },
  {
   "cell_type": "markdown",
   "id": "1097d972",
   "metadata": {},
   "source": [
    "## Question 3\n",
    "\n",
    "With A = 1, C = 10, D = 1,000, what value of B is needed to detect that the Data Generating Process (DGP) has a nonzero coefficient for X about 50% of the time? (Choose the closest value.)"
   ]
  },
  {
   "cell_type": "code",
   "execution_count": null,
   "id": "89747af4",
   "metadata": {},
   "outputs": [],
   "source": [
    "# Estimate detection probability for a given B\n",
    "def estimate_probability(B, num_simulations=1000, A=1, C=10, D=1000):\n",
    "    count_significant = 0\n",
    "    for _ in range(num_simulations):\n",
    "        Y, X, W = simulate(A, B, C, D)\n",
    "        t_val = get_t_value(Y, X, W)\n",
    "        if abs(t_val) > 1.96:\n",
    "            count_significant += 1\n",
    "    probability = count_significant / num_simulations\n",
    "    return probability"
   ]
  },
  {
   "cell_type": "code",
   "execution_count": 24,
   "id": "f34acb1c",
   "metadata": {},
   "outputs": [
    {
     "name": "stdout",
     "output_type": "stream",
     "text": [
      "B = 0.20, detection probability = 0.132\n",
      "B = 0.29, detection probability = 0.138\n",
      "B = 0.39, detection probability = 0.222\n",
      "B = 0.48, detection probability = 0.350\n",
      "B = 0.58, detection probability = 0.494\n",
      "B = 0.67, detection probability = 0.550\n",
      "B = 0.77, detection probability = 0.704\n",
      "B = 0.86, detection probability = 0.764\n",
      "B = 0.96, detection probability = 0.868\n",
      "B = 1.05, detection probability = 0.898\n",
      "B = 1.15, detection probability = 0.968\n",
      "B = 1.24, detection probability = 0.970\n",
      "B = 1.34, detection probability = 0.990\n",
      "B = 1.43, detection probability = 1.000\n",
      "B = 1.53, detection probability = 0.992\n",
      "B = 1.62, detection probability = 1.000\n",
      "B = 1.72, detection probability = 1.000\n",
      "B = 1.81, detection probability = 1.000\n",
      "B = 1.91, detection probability = 1.000\n",
      "B = 2.00, detection probability = 1.000\n"
     ]
    }
   ],
   "source": [
    "# Search over B grid\n",
    "B_values = np.linspace(0.2, 2.0, 20)  # test B from 0.2 to 2.0\n",
    "results = []\n",
    "\n",
    "for B in B_values:\n",
    "    prob = estimate_probability(B)\n",
    "    results.append((B, prob))\n",
    "    print(f\"B = {B:.2f}, detection probability = {prob:.3f}\")"
   ]
  },
  {
   "cell_type": "code",
   "execution_count": 25,
   "id": "7623974f",
   "metadata": {},
   "outputs": [
    {
     "name": "stdout",
     "output_type": "stream",
     "text": [
      "\n",
      "✅ Estimated B for ~50% detection: 0.579 (prob = 0.494)\n"
     ]
    }
   ],
   "source": [
    "results = np.array(results)\n",
    "closest_idx = np.argmin(np.abs(results[:,1] - 0.5))\n",
    "best_B, best_prob = results[closest_idx]\n",
    "\n",
    "print(f\"\\n✅ Estimated B for ~50% detection: {best_B:.3f} (prob = {best_prob:.3f})\")"
   ]
  },
  {
   "cell_type": "markdown",
   "id": "7721d375",
   "metadata": {},
   "source": [
    "## Question 4\n",
    "\n",
    "With B = 1, C = 10, D = 100 (note the different value of D), what value of A is needed to detect that the DGP has a nonzero coefficient for X about 50% of the time? (Choose the closest value.) "
   ]
  },
  {
   "cell_type": "code",
   "execution_count": 26,
   "id": "c34fdfa9",
   "metadata": {},
   "outputs": [],
   "source": [
    "# Estimate detection probability at given A\n",
    "def estimate_probability(A, num_simulations=1000, B=1, C=10, D=100):\n",
    "    count_significant = 0\n",
    "    for _ in range(num_simulations):\n",
    "        Y, X, W = simulate(A, B, C, D)\n",
    "        t_val = get_t_value(Y, X, W)\n",
    "        if abs(t_val) > 1.96:\n",
    "            count_significant += 1\n",
    "    probability = count_significant / num_simulations\n",
    "    return probability\n"
   ]
  },
  {
   "cell_type": "code",
   "execution_count": 27,
   "id": "36dade62",
   "metadata": {},
   "outputs": [
    {
     "name": "stdout",
     "output_type": "stream",
     "text": [
      "\n",
      "Searching for A giving ~50% detection rate...\n",
      "\n",
      "A = 0.50, detection probability = 0.088\n",
      "A = 0.66, detection probability = 0.097\n",
      "A = 0.82, detection probability = 0.141\n",
      "A = 0.97, detection probability = 0.162\n",
      "A = 1.13, detection probability = 0.196\n",
      "A = 1.29, detection probability = 0.249\n",
      "A = 1.45, detection probability = 0.299\n",
      "A = 1.61, detection probability = 0.331\n",
      "A = 1.76, detection probability = 0.405\n",
      "A = 1.92, detection probability = 0.466\n",
      "A = 2.08, detection probability = 0.531\n",
      "A = 2.24, detection probability = 0.620\n",
      "A = 2.39, detection probability = 0.643\n",
      "A = 2.55, detection probability = 0.734\n",
      "A = 2.71, detection probability = 0.755\n",
      "A = 2.87, detection probability = 0.789\n",
      "A = 3.03, detection probability = 0.830\n",
      "A = 3.18, detection probability = 0.876\n",
      "A = 3.34, detection probability = 0.897\n",
      "A = 3.50, detection probability = 0.941\n"
     ]
    }
   ],
   "source": [
    "# Search over A grid\n",
    "A_values = np.linspace(0.5, 3.5, 20)  # test A from 0.5 to 3.5\n",
    "results = []\n",
    "\n",
    "print(\"\\nSearching for A giving ~50% detection rate...\\n\")\n",
    "for A in A_values:\n",
    "    prob = estimate_probability(A)\n",
    "    results.append((A, prob))\n",
    "    print(f\"A = {A:.2f}, detection probability = {prob:.3f}\")\n"
   ]
  },
  {
   "cell_type": "code",
   "execution_count": 28,
   "id": "57a5524f",
   "metadata": {},
   "outputs": [
    {
     "name": "stdout",
     "output_type": "stream",
     "text": [
      "\n",
      "✅ Estimated A for ~50% detection: 2.079 (prob = 0.531)\n"
     ]
    }
   ],
   "source": [
    "# Find A closest to 0.5 detection probability\n",
    "results = np.array(results)\n",
    "closest_idx = np.argmin(np.abs(results[:,1] - 0.5))\n",
    "best_A, best_prob = results[closest_idx]\n",
    "\n",
    "print(f\"\\n✅ Estimated A for ~50% detection: {best_A:.3f} (prob = {best_prob:.3f})\")\n"
   ]
  }
 ],
 "metadata": {
  "kernelspec": {
   "display_name": ".venv",
   "language": "python",
   "name": "python3"
  },
  "language_info": {
   "codemirror_mode": {
    "name": "ipython",
    "version": 3
   },
   "file_extension": ".py",
   "mimetype": "text/x-python",
   "name": "python",
   "nbconvert_exporter": "python",
   "pygments_lexer": "ipython3",
   "version": "3.12.4"
  }
 },
 "nbformat": 4,
 "nbformat_minor": 5
}
