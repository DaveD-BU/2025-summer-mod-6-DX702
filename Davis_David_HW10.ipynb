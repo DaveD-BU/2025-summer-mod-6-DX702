{
 "cells": [
  {
   "cell_type": "code",
   "execution_count": 11,
   "id": "906cb9cc",
   "metadata": {},
   "outputs": [],
   "source": [
    "import numpy as np\n",
    "import pandas as pd\n",
    "import statsmodels.formula.api as smf\n",
    "import statsmodels.api as sm\n",
    "from tqdm import tqdm\n"
   ]
  },
  {
   "cell_type": "markdown",
   "id": "177b22cc",
   "metadata": {},
   "source": [
    "## Question 1\n",
    "\n",
    "Use the data in homework_10.1.csv and find the fixed effect (the constant term in the regression) for each time (0 through 11). "
   ]
  },
  {
   "cell_type": "code",
   "execution_count": 6,
   "id": "49be869e",
   "metadata": {},
   "outputs": [],
   "source": [
    "# Load data\n",
    "df = pd.read_csv('homework_10.1.csv')"
   ]
  },
  {
   "cell_type": "code",
   "execution_count": 7,
   "id": "a96b0aca",
   "metadata": {},
   "outputs": [
    {
     "name": "stdout",
     "output_type": "stream",
     "text": [
      "0     2.879246\n",
      "1     4.676858\n",
      "2     6.148259\n",
      "3     7.162997\n",
      "4     8.117890\n",
      "5     9.016350\n",
      "6     8.626309\n",
      "7     8.515667\n",
      "8     8.407278\n",
      "9     7.467505\n",
      "10    5.991741\n",
      "11    4.623149\n",
      "dtype: float64\n"
     ]
    }
   ],
   "source": [
    "# Convert time to categorical for fixed effects\n",
    "df['time'] = df['time'].astype('category')\n",
    "\n",
    "# Fit model with time fixed effects and X\n",
    "model = smf.ols('y ~ X + C(time) - 1', data=df).fit()\n",
    "\n",
    "# Extract fixed effects\n",
    "fixed_effects = model.params.filter(like='C(time)')\n",
    "fixed_effects = fixed_effects.rename(lambda x: int(x.split('[')[-1].rstrip(']'))).sort_index()\n",
    "\n",
    "# Show fixed effects for each time\n",
    "print(fixed_effects)"
   ]
  },
  {
   "cell_type": "markdown",
   "id": "cdd23d02",
   "metadata": {},
   "source": [
    "## Question 2\n",
    "\n",
    "What about the fixed effect for each city (0 through 9). "
   ]
  },
  {
   "cell_type": "code",
   "execution_count": null,
   "id": "e4532644",
   "metadata": {},
   "outputs": [],
   "source": [
    "df = pd.read_csv('homework_10.1.csv')"
   ]
  },
  {
   "cell_type": "code",
   "execution_count": 8,
   "id": "63bc5d91",
   "metadata": {},
   "outputs": [
    {
     "name": "stdout",
     "output_type": "stream",
     "text": [
      "0    11.029943\n",
      "1     5.227050\n",
      "2     7.921836\n",
      "3    12.926031\n",
      "4    11.296032\n",
      "5    -0.057783\n",
      "6     7.704997\n",
      "7     3.257647\n",
      "8     3.384002\n",
      "9     5.450428\n",
      "dtype: float64\n"
     ]
    }
   ],
   "source": [
    "# Convert city to categorical\n",
    "df['city'] = df['city'].astype('category')\n",
    "\n",
    "# Fit model with city fixed effects and X\n",
    "model = smf.ols('y ~ X + C(city) - 1', data=df).fit()\n",
    "\n",
    "# Extract fixed effects\n",
    "city_effects = model.params.filter(like='C(city)')\n",
    "city_effects = city_effects.rename(lambda x: int(x.split('[')[-1].rstrip(']'))).sort_index()\n",
    "\n",
    "# Show fixed effects\n",
    "print(city_effects)"
   ]
  },
  {
   "cell_type": "markdown",
   "id": "4d8ac45a",
   "metadata": {},
   "source": [
    "## Question 3\n",
    "\n",
    "For the following data, model np.exp(Y) as a function of X and Z. \n",
    "\n",
    "num = 10000 \n",
    "\n",
    "X = np.clip(np.random.normal(3, 1, (num,)), 0.01, 100)\n",
    "\n",
    "Z = np.clip(np.random.normal(3, 1, (num,)), 0.01, 100)\n",
    "\n",
    "Y = np.log(X + Z) + np.random.normal(0, 1, (num,)) "
   ]
  },
  {
   "cell_type": "code",
   "execution_count": 7,
   "id": "c2a22ee2",
   "metadata": {},
   "outputs": [],
   "source": [
    "num=100000\n",
    "\n",
    "X = np.clip(np.random.normal(3, 1, (num,)), 0.01, 100)\n",
    "Z = np.clip(np.random.normal(3, 1, (num,)), 0.01, 100)\n",
    "Y = np.log(X + Z) + np.random.normal(0, 1, (num,))"
   ]
  },
  {
   "cell_type": "code",
   "execution_count": 8,
   "id": "4c0f20a1",
   "metadata": {},
   "outputs": [
    {
     "name": "stdout",
     "output_type": "stream",
     "text": [
      "                            OLS Regression Results                            \n",
      "==============================================================================\n",
      "Dep. Variable:                   expY   R-squared:                       0.030\n",
      "Model:                            OLS   Adj. R-squared:                  0.030\n",
      "Method:                 Least Squares   F-statistic:                     1550.\n",
      "Date:                Sun, 27 Jul 2025   Prob (F-statistic):               0.00\n",
      "Time:                        12:23:56   Log-Likelihood:            -3.9968e+05\n",
      "No. Observations:              100000   AIC:                         7.994e+05\n",
      "Df Residuals:                   99997   BIC:                         7.994e+05\n",
      "Df Model:                           2                                         \n",
      "Covariance Type:            nonrobust                                         \n",
      "==============================================================================\n",
      "                 coef    std err          t      P>|t|      [0.025      0.975]\n",
      "------------------------------------------------------------------------------\n",
      "const         -0.0214      0.182     -0.117      0.907      -0.378       0.336\n",
      "X              1.6363      0.042     39.159      0.000       1.554       1.718\n",
      "Z              1.6562      0.042     39.776      0.000       1.575       1.738\n",
      "==============================================================================\n",
      "Omnibus:                   119898.909   Durbin-Watson:                   2.004\n",
      "Prob(Omnibus):                  0.000   Jarque-Bera (JB):         34250254.267\n",
      "Skew:                           6.129   Prob(JB):                         0.00\n",
      "Kurtosis:                      92.832   Cond. No.                         20.0\n",
      "==============================================================================\n",
      "\n",
      "Notes:\n",
      "[1] Standard Errors assume that the covariance matrix of the errors is correctly specified.\n"
     ]
    }
   ],
   "source": [
    "# Model exp(Y)\n",
    "data = pd.DataFrame({'X': X, 'Z': Z, 'expY': np.exp(Y)})\n",
    "\n",
    "# Fit model\n",
    "X_design = sm.add_constant(data[['X', 'Z']])\n",
    "model = sm.OLS(data['expY'], X_design).fit()\n",
    "\n",
    "print(model.summary())"
   ]
  },
  {
   "cell_type": "markdown",
   "id": "8ceea136",
   "metadata": {},
   "source": [
    "## Question 4\n",
    "\n",
    "Suppose we were to use the data below to find the standard error of X's coefficient (the coefficient that should be 1.5) in two ways: \n",
    "\n",
    "    i) By asking Python to find the standard error. \n",
    "    ii) num = 10000 \n",
    "\n",
    " \n",
    "\n",
    "Z = np.random.normal(0, 1, (num,)) \n",
    "\n",
    "X = Z + np.random.normal(0, 1, (num,)) \n",
    "\n",
    "Y = 1.5 * X + 2.3 * Z + np.random.normal(0, X**2, (num,)) \n",
    "\n",
    "\n",
    "\n",
    "By simulating what happens if we generate the data 100 times, estimating X's coefficient and finding the standard deviation of the 100 estimates."
   ]
  },
  {
   "cell_type": "code",
   "execution_count": 9,
   "id": "5bff7061",
   "metadata": {},
   "outputs": [],
   "source": [
    "num = 10000\n",
    "\n",
    "Z = np.random.normal(0, 1, (num,))\n",
    "X = Z + np.random.normal(0, 1, (num,))\n",
    "Y = 1.5 * X + 2.3 * Z + np.random.normal(0, X**2, (num,))"
   ]
  },
  {
   "cell_type": "code",
   "execution_count": 10,
   "id": "8f77d511",
   "metadata": {},
   "outputs": [
    {
     "name": "stdout",
     "output_type": "stream",
     "text": [
      "Python standard error of X's coefficient: 0.03475002660146179\n"
     ]
    }
   ],
   "source": [
    "# One run — use Python's standard error estimate\n",
    "\n",
    "# Fit model\n",
    "X_design = sm.add_constant(np.column_stack((X, Z)))\n",
    "model = sm.OLS(Y, X_design).fit()\n",
    "\n",
    "# Extract standard error for X's coefficient\n",
    "se_python = model.bse[1]  # index 1 = X (0 is intercept)\n",
    "\n",
    "print(\"Python standard error of X's coefficient:\", se_python)"
   ]
  },
  {
   "cell_type": "code",
   "execution_count": 12,
   "id": "d71a4886",
   "metadata": {},
   "outputs": [
    {
     "name": "stderr",
     "output_type": "stream",
     "text": [
      "100%|██████████| 100/100 [00:00<00:00, 492.52it/s]"
     ]
    },
    {
     "name": "stdout",
     "output_type": "stream",
     "text": [
      "Simulated std dev of X's coefficient over 100 runs: 0.055960869080901844\n"
     ]
    },
    {
     "name": "stderr",
     "output_type": "stream",
     "text": [
      "\n"
     ]
    }
   ],
   "source": [
    "# Simulation — estimate std. dev. across 100 trials\n",
    "\n",
    "coefs = []\n",
    "\n",
    "for _ in tqdm(range(100)):\n",
    "    Z = np.random.normal(0, 1, num)\n",
    "    X = Z + np.random.normal(0, 1, num)\n",
    "    Y = 1.5 * X + 2.3 * Z + np.random.normal(0, X**2, num)\n",
    "    X_design = sm.add_constant(np.column_stack((X, Z)))\n",
    "    model = sm.OLS(Y, X_design).fit()\n",
    "    coefs.append(model.params[1])  # store coefficient of X\n",
    "\n",
    "# Standard deviation of X's coefficient estimates\n",
    "se_simulated = np.std(coefs, ddof=1)\n",
    "\n",
    "print(\"Simulated std dev of X's coefficient over 100 runs:\", se_simulated)\n"
   ]
  },
  {
   "cell_type": "markdown",
   "id": "c38f5449",
   "metadata": {},
   "source": [
    "## Homework Reflection \n",
    "\n",
    "No Homework Relection this week."
   ]
  }
 ],
 "metadata": {
  "kernelspec": {
   "display_name": ".venv",
   "language": "python",
   "name": "python3"
  },
  "language_info": {
   "codemirror_mode": {
    "name": "ipython",
    "version": 3
   },
   "file_extension": ".py",
   "mimetype": "text/x-python",
   "name": "python",
   "nbconvert_exporter": "python",
   "pygments_lexer": "ipython3",
   "version": "3.12.4"
  }
 },
 "nbformat": 4,
 "nbformat_minor": 5
}
