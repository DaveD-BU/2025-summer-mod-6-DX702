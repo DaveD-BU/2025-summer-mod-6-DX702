{
 "cells": [
  {
   "cell_type": "code",
   "execution_count": 20,
   "id": "ccfbd98c",
   "metadata": {},
   "outputs": [],
   "source": [
    "import pandas as pd\n",
    "import numpy as np\n",
    "import matplotlib.pyplot as plt\n",
    "import statsmodels.api as sm\n",
    "\n",
    "from sklearn.linear_model import LinearRegression\n",
    "from sklearn.neighbors import NearestNeighbors"
   ]
  },
  {
   "cell_type": "markdown",
   "id": "61ffefdd",
   "metadata": {},
   "source": [
    "## Question 1 - 3\n",
    "\n",
    "Perform a linear regression to predict Y from X1, X2, and X3. Use the file homework_1.1.csv."
   ]
  },
  {
   "cell_type": "code",
   "execution_count": 21,
   "id": "a5824184",
   "metadata": {},
   "outputs": [],
   "source": [
    "#load homework_1.1.csv\n",
    "df_1_1 = pd.read_csv('homework_1.1.csv')"
   ]
  },
  {
   "cell_type": "code",
   "execution_count": 22,
   "id": "604fd002",
   "metadata": {},
   "outputs": [
    {
     "data": {
      "text/html": [
       "<style>#sk-container-id-2 {\n",
       "  /* Definition of color scheme common for light and dark mode */\n",
       "  --sklearn-color-text: #000;\n",
       "  --sklearn-color-text-muted: #666;\n",
       "  --sklearn-color-line: gray;\n",
       "  /* Definition of color scheme for unfitted estimators */\n",
       "  --sklearn-color-unfitted-level-0: #fff5e6;\n",
       "  --sklearn-color-unfitted-level-1: #f6e4d2;\n",
       "  --sklearn-color-unfitted-level-2: #ffe0b3;\n",
       "  --sklearn-color-unfitted-level-3: chocolate;\n",
       "  /* Definition of color scheme for fitted estimators */\n",
       "  --sklearn-color-fitted-level-0: #f0f8ff;\n",
       "  --sklearn-color-fitted-level-1: #d4ebff;\n",
       "  --sklearn-color-fitted-level-2: #b3dbfd;\n",
       "  --sklearn-color-fitted-level-3: cornflowerblue;\n",
       "\n",
       "  /* Specific color for light theme */\n",
       "  --sklearn-color-text-on-default-background: var(--sg-text-color, var(--theme-code-foreground, var(--jp-content-font-color1, black)));\n",
       "  --sklearn-color-background: var(--sg-background-color, var(--theme-background, var(--jp-layout-color0, white)));\n",
       "  --sklearn-color-border-box: var(--sg-text-color, var(--theme-code-foreground, var(--jp-content-font-color1, black)));\n",
       "  --sklearn-color-icon: #696969;\n",
       "\n",
       "  @media (prefers-color-scheme: dark) {\n",
       "    /* Redefinition of color scheme for dark theme */\n",
       "    --sklearn-color-text-on-default-background: var(--sg-text-color, var(--theme-code-foreground, var(--jp-content-font-color1, white)));\n",
       "    --sklearn-color-background: var(--sg-background-color, var(--theme-background, var(--jp-layout-color0, #111)));\n",
       "    --sklearn-color-border-box: var(--sg-text-color, var(--theme-code-foreground, var(--jp-content-font-color1, white)));\n",
       "    --sklearn-color-icon: #878787;\n",
       "  }\n",
       "}\n",
       "\n",
       "#sk-container-id-2 {\n",
       "  color: var(--sklearn-color-text);\n",
       "}\n",
       "\n",
       "#sk-container-id-2 pre {\n",
       "  padding: 0;\n",
       "}\n",
       "\n",
       "#sk-container-id-2 input.sk-hidden--visually {\n",
       "  border: 0;\n",
       "  clip: rect(1px 1px 1px 1px);\n",
       "  clip: rect(1px, 1px, 1px, 1px);\n",
       "  height: 1px;\n",
       "  margin: -1px;\n",
       "  overflow: hidden;\n",
       "  padding: 0;\n",
       "  position: absolute;\n",
       "  width: 1px;\n",
       "}\n",
       "\n",
       "#sk-container-id-2 div.sk-dashed-wrapped {\n",
       "  border: 1px dashed var(--sklearn-color-line);\n",
       "  margin: 0 0.4em 0.5em 0.4em;\n",
       "  box-sizing: border-box;\n",
       "  padding-bottom: 0.4em;\n",
       "  background-color: var(--sklearn-color-background);\n",
       "}\n",
       "\n",
       "#sk-container-id-2 div.sk-container {\n",
       "  /* jupyter's `normalize.less` sets `[hidden] { display: none; }`\n",
       "     but bootstrap.min.css set `[hidden] { display: none !important; }`\n",
       "     so we also need the `!important` here to be able to override the\n",
       "     default hidden behavior on the sphinx rendered scikit-learn.org.\n",
       "     See: https://github.com/scikit-learn/scikit-learn/issues/21755 */\n",
       "  display: inline-block !important;\n",
       "  position: relative;\n",
       "}\n",
       "\n",
       "#sk-container-id-2 div.sk-text-repr-fallback {\n",
       "  display: none;\n",
       "}\n",
       "\n",
       "div.sk-parallel-item,\n",
       "div.sk-serial,\n",
       "div.sk-item {\n",
       "  /* draw centered vertical line to link estimators */\n",
       "  background-image: linear-gradient(var(--sklearn-color-text-on-default-background), var(--sklearn-color-text-on-default-background));\n",
       "  background-size: 2px 100%;\n",
       "  background-repeat: no-repeat;\n",
       "  background-position: center center;\n",
       "}\n",
       "\n",
       "/* Parallel-specific style estimator block */\n",
       "\n",
       "#sk-container-id-2 div.sk-parallel-item::after {\n",
       "  content: \"\";\n",
       "  width: 100%;\n",
       "  border-bottom: 2px solid var(--sklearn-color-text-on-default-background);\n",
       "  flex-grow: 1;\n",
       "}\n",
       "\n",
       "#sk-container-id-2 div.sk-parallel {\n",
       "  display: flex;\n",
       "  align-items: stretch;\n",
       "  justify-content: center;\n",
       "  background-color: var(--sklearn-color-background);\n",
       "  position: relative;\n",
       "}\n",
       "\n",
       "#sk-container-id-2 div.sk-parallel-item {\n",
       "  display: flex;\n",
       "  flex-direction: column;\n",
       "}\n",
       "\n",
       "#sk-container-id-2 div.sk-parallel-item:first-child::after {\n",
       "  align-self: flex-end;\n",
       "  width: 50%;\n",
       "}\n",
       "\n",
       "#sk-container-id-2 div.sk-parallel-item:last-child::after {\n",
       "  align-self: flex-start;\n",
       "  width: 50%;\n",
       "}\n",
       "\n",
       "#sk-container-id-2 div.sk-parallel-item:only-child::after {\n",
       "  width: 0;\n",
       "}\n",
       "\n",
       "/* Serial-specific style estimator block */\n",
       "\n",
       "#sk-container-id-2 div.sk-serial {\n",
       "  display: flex;\n",
       "  flex-direction: column;\n",
       "  align-items: center;\n",
       "  background-color: var(--sklearn-color-background);\n",
       "  padding-right: 1em;\n",
       "  padding-left: 1em;\n",
       "}\n",
       "\n",
       "\n",
       "/* Toggleable style: style used for estimator/Pipeline/ColumnTransformer box that is\n",
       "clickable and can be expanded/collapsed.\n",
       "- Pipeline and ColumnTransformer use this feature and define the default style\n",
       "- Estimators will overwrite some part of the style using the `sk-estimator` class\n",
       "*/\n",
       "\n",
       "/* Pipeline and ColumnTransformer style (default) */\n",
       "\n",
       "#sk-container-id-2 div.sk-toggleable {\n",
       "  /* Default theme specific background. It is overwritten whether we have a\n",
       "  specific estimator or a Pipeline/ColumnTransformer */\n",
       "  background-color: var(--sklearn-color-background);\n",
       "}\n",
       "\n",
       "/* Toggleable label */\n",
       "#sk-container-id-2 label.sk-toggleable__label {\n",
       "  cursor: pointer;\n",
       "  display: flex;\n",
       "  width: 100%;\n",
       "  margin-bottom: 0;\n",
       "  padding: 0.5em;\n",
       "  box-sizing: border-box;\n",
       "  text-align: center;\n",
       "  align-items: start;\n",
       "  justify-content: space-between;\n",
       "  gap: 0.5em;\n",
       "}\n",
       "\n",
       "#sk-container-id-2 label.sk-toggleable__label .caption {\n",
       "  font-size: 0.6rem;\n",
       "  font-weight: lighter;\n",
       "  color: var(--sklearn-color-text-muted);\n",
       "}\n",
       "\n",
       "#sk-container-id-2 label.sk-toggleable__label-arrow:before {\n",
       "  /* Arrow on the left of the label */\n",
       "  content: \"▸\";\n",
       "  float: left;\n",
       "  margin-right: 0.25em;\n",
       "  color: var(--sklearn-color-icon);\n",
       "}\n",
       "\n",
       "#sk-container-id-2 label.sk-toggleable__label-arrow:hover:before {\n",
       "  color: var(--sklearn-color-text);\n",
       "}\n",
       "\n",
       "/* Toggleable content - dropdown */\n",
       "\n",
       "#sk-container-id-2 div.sk-toggleable__content {\n",
       "  max-height: 0;\n",
       "  max-width: 0;\n",
       "  overflow: hidden;\n",
       "  text-align: left;\n",
       "  /* unfitted */\n",
       "  background-color: var(--sklearn-color-unfitted-level-0);\n",
       "}\n",
       "\n",
       "#sk-container-id-2 div.sk-toggleable__content.fitted {\n",
       "  /* fitted */\n",
       "  background-color: var(--sklearn-color-fitted-level-0);\n",
       "}\n",
       "\n",
       "#sk-container-id-2 div.sk-toggleable__content pre {\n",
       "  margin: 0.2em;\n",
       "  border-radius: 0.25em;\n",
       "  color: var(--sklearn-color-text);\n",
       "  /* unfitted */\n",
       "  background-color: var(--sklearn-color-unfitted-level-0);\n",
       "}\n",
       "\n",
       "#sk-container-id-2 div.sk-toggleable__content.fitted pre {\n",
       "  /* unfitted */\n",
       "  background-color: var(--sklearn-color-fitted-level-0);\n",
       "}\n",
       "\n",
       "#sk-container-id-2 input.sk-toggleable__control:checked~div.sk-toggleable__content {\n",
       "  /* Expand drop-down */\n",
       "  max-height: 200px;\n",
       "  max-width: 100%;\n",
       "  overflow: auto;\n",
       "}\n",
       "\n",
       "#sk-container-id-2 input.sk-toggleable__control:checked~label.sk-toggleable__label-arrow:before {\n",
       "  content: \"▾\";\n",
       "}\n",
       "\n",
       "/* Pipeline/ColumnTransformer-specific style */\n",
       "\n",
       "#sk-container-id-2 div.sk-label input.sk-toggleable__control:checked~label.sk-toggleable__label {\n",
       "  color: var(--sklearn-color-text);\n",
       "  background-color: var(--sklearn-color-unfitted-level-2);\n",
       "}\n",
       "\n",
       "#sk-container-id-2 div.sk-label.fitted input.sk-toggleable__control:checked~label.sk-toggleable__label {\n",
       "  background-color: var(--sklearn-color-fitted-level-2);\n",
       "}\n",
       "\n",
       "/* Estimator-specific style */\n",
       "\n",
       "/* Colorize estimator box */\n",
       "#sk-container-id-2 div.sk-estimator input.sk-toggleable__control:checked~label.sk-toggleable__label {\n",
       "  /* unfitted */\n",
       "  background-color: var(--sklearn-color-unfitted-level-2);\n",
       "}\n",
       "\n",
       "#sk-container-id-2 div.sk-estimator.fitted input.sk-toggleable__control:checked~label.sk-toggleable__label {\n",
       "  /* fitted */\n",
       "  background-color: var(--sklearn-color-fitted-level-2);\n",
       "}\n",
       "\n",
       "#sk-container-id-2 div.sk-label label.sk-toggleable__label,\n",
       "#sk-container-id-2 div.sk-label label {\n",
       "  /* The background is the default theme color */\n",
       "  color: var(--sklearn-color-text-on-default-background);\n",
       "}\n",
       "\n",
       "/* On hover, darken the color of the background */\n",
       "#sk-container-id-2 div.sk-label:hover label.sk-toggleable__label {\n",
       "  color: var(--sklearn-color-text);\n",
       "  background-color: var(--sklearn-color-unfitted-level-2);\n",
       "}\n",
       "\n",
       "/* Label box, darken color on hover, fitted */\n",
       "#sk-container-id-2 div.sk-label.fitted:hover label.sk-toggleable__label.fitted {\n",
       "  color: var(--sklearn-color-text);\n",
       "  background-color: var(--sklearn-color-fitted-level-2);\n",
       "}\n",
       "\n",
       "/* Estimator label */\n",
       "\n",
       "#sk-container-id-2 div.sk-label label {\n",
       "  font-family: monospace;\n",
       "  font-weight: bold;\n",
       "  display: inline-block;\n",
       "  line-height: 1.2em;\n",
       "}\n",
       "\n",
       "#sk-container-id-2 div.sk-label-container {\n",
       "  text-align: center;\n",
       "}\n",
       "\n",
       "/* Estimator-specific */\n",
       "#sk-container-id-2 div.sk-estimator {\n",
       "  font-family: monospace;\n",
       "  border: 1px dotted var(--sklearn-color-border-box);\n",
       "  border-radius: 0.25em;\n",
       "  box-sizing: border-box;\n",
       "  margin-bottom: 0.5em;\n",
       "  /* unfitted */\n",
       "  background-color: var(--sklearn-color-unfitted-level-0);\n",
       "}\n",
       "\n",
       "#sk-container-id-2 div.sk-estimator.fitted {\n",
       "  /* fitted */\n",
       "  background-color: var(--sklearn-color-fitted-level-0);\n",
       "}\n",
       "\n",
       "/* on hover */\n",
       "#sk-container-id-2 div.sk-estimator:hover {\n",
       "  /* unfitted */\n",
       "  background-color: var(--sklearn-color-unfitted-level-2);\n",
       "}\n",
       "\n",
       "#sk-container-id-2 div.sk-estimator.fitted:hover {\n",
       "  /* fitted */\n",
       "  background-color: var(--sklearn-color-fitted-level-2);\n",
       "}\n",
       "\n",
       "/* Specification for estimator info (e.g. \"i\" and \"?\") */\n",
       "\n",
       "/* Common style for \"i\" and \"?\" */\n",
       "\n",
       ".sk-estimator-doc-link,\n",
       "a:link.sk-estimator-doc-link,\n",
       "a:visited.sk-estimator-doc-link {\n",
       "  float: right;\n",
       "  font-size: smaller;\n",
       "  line-height: 1em;\n",
       "  font-family: monospace;\n",
       "  background-color: var(--sklearn-color-background);\n",
       "  border-radius: 1em;\n",
       "  height: 1em;\n",
       "  width: 1em;\n",
       "  text-decoration: none !important;\n",
       "  margin-left: 0.5em;\n",
       "  text-align: center;\n",
       "  /* unfitted */\n",
       "  border: var(--sklearn-color-unfitted-level-1) 1pt solid;\n",
       "  color: var(--sklearn-color-unfitted-level-1);\n",
       "}\n",
       "\n",
       ".sk-estimator-doc-link.fitted,\n",
       "a:link.sk-estimator-doc-link.fitted,\n",
       "a:visited.sk-estimator-doc-link.fitted {\n",
       "  /* fitted */\n",
       "  border: var(--sklearn-color-fitted-level-1) 1pt solid;\n",
       "  color: var(--sklearn-color-fitted-level-1);\n",
       "}\n",
       "\n",
       "/* On hover */\n",
       "div.sk-estimator:hover .sk-estimator-doc-link:hover,\n",
       ".sk-estimator-doc-link:hover,\n",
       "div.sk-label-container:hover .sk-estimator-doc-link:hover,\n",
       ".sk-estimator-doc-link:hover {\n",
       "  /* unfitted */\n",
       "  background-color: var(--sklearn-color-unfitted-level-3);\n",
       "  color: var(--sklearn-color-background);\n",
       "  text-decoration: none;\n",
       "}\n",
       "\n",
       "div.sk-estimator.fitted:hover .sk-estimator-doc-link.fitted:hover,\n",
       ".sk-estimator-doc-link.fitted:hover,\n",
       "div.sk-label-container:hover .sk-estimator-doc-link.fitted:hover,\n",
       ".sk-estimator-doc-link.fitted:hover {\n",
       "  /* fitted */\n",
       "  background-color: var(--sklearn-color-fitted-level-3);\n",
       "  color: var(--sklearn-color-background);\n",
       "  text-decoration: none;\n",
       "}\n",
       "\n",
       "/* Span, style for the box shown on hovering the info icon */\n",
       ".sk-estimator-doc-link span {\n",
       "  display: none;\n",
       "  z-index: 9999;\n",
       "  position: relative;\n",
       "  font-weight: normal;\n",
       "  right: .2ex;\n",
       "  padding: .5ex;\n",
       "  margin: .5ex;\n",
       "  width: min-content;\n",
       "  min-width: 20ex;\n",
       "  max-width: 50ex;\n",
       "  color: var(--sklearn-color-text);\n",
       "  box-shadow: 2pt 2pt 4pt #999;\n",
       "  /* unfitted */\n",
       "  background: var(--sklearn-color-unfitted-level-0);\n",
       "  border: .5pt solid var(--sklearn-color-unfitted-level-3);\n",
       "}\n",
       "\n",
       ".sk-estimator-doc-link.fitted span {\n",
       "  /* fitted */\n",
       "  background: var(--sklearn-color-fitted-level-0);\n",
       "  border: var(--sklearn-color-fitted-level-3);\n",
       "}\n",
       "\n",
       ".sk-estimator-doc-link:hover span {\n",
       "  display: block;\n",
       "}\n",
       "\n",
       "/* \"?\"-specific style due to the `<a>` HTML tag */\n",
       "\n",
       "#sk-container-id-2 a.estimator_doc_link {\n",
       "  float: right;\n",
       "  font-size: 1rem;\n",
       "  line-height: 1em;\n",
       "  font-family: monospace;\n",
       "  background-color: var(--sklearn-color-background);\n",
       "  border-radius: 1rem;\n",
       "  height: 1rem;\n",
       "  width: 1rem;\n",
       "  text-decoration: none;\n",
       "  /* unfitted */\n",
       "  color: var(--sklearn-color-unfitted-level-1);\n",
       "  border: var(--sklearn-color-unfitted-level-1) 1pt solid;\n",
       "}\n",
       "\n",
       "#sk-container-id-2 a.estimator_doc_link.fitted {\n",
       "  /* fitted */\n",
       "  border: var(--sklearn-color-fitted-level-1) 1pt solid;\n",
       "  color: var(--sklearn-color-fitted-level-1);\n",
       "}\n",
       "\n",
       "/* On hover */\n",
       "#sk-container-id-2 a.estimator_doc_link:hover {\n",
       "  /* unfitted */\n",
       "  background-color: var(--sklearn-color-unfitted-level-3);\n",
       "  color: var(--sklearn-color-background);\n",
       "  text-decoration: none;\n",
       "}\n",
       "\n",
       "#sk-container-id-2 a.estimator_doc_link.fitted:hover {\n",
       "  /* fitted */\n",
       "  background-color: var(--sklearn-color-fitted-level-3);\n",
       "}\n",
       "</style><div id=\"sk-container-id-2\" class=\"sk-top-container\"><div class=\"sk-text-repr-fallback\"><pre>LinearRegression()</pre><b>In a Jupyter environment, please rerun this cell to show the HTML representation or trust the notebook. <br />On GitHub, the HTML representation is unable to render, please try loading this page with nbviewer.org.</b></div><div class=\"sk-container\" hidden><div class=\"sk-item\"><div class=\"sk-estimator fitted sk-toggleable\"><input class=\"sk-toggleable__control sk-hidden--visually\" id=\"sk-estimator-id-2\" type=\"checkbox\" checked><label for=\"sk-estimator-id-2\" class=\"sk-toggleable__label fitted sk-toggleable__label-arrow\"><div><div>LinearRegression</div></div><div><a class=\"sk-estimator-doc-link fitted\" rel=\"noreferrer\" target=\"_blank\" href=\"https://scikit-learn.org/1.6/modules/generated/sklearn.linear_model.LinearRegression.html\">?<span>Documentation for LinearRegression</span></a><span class=\"sk-estimator-doc-link fitted\">i<span>Fitted</span></span></div></label><div class=\"sk-toggleable__content fitted\"><pre>LinearRegression()</pre></div> </div></div></div></div>"
      ],
      "text/plain": [
       "LinearRegression()"
      ]
     },
     "execution_count": 22,
     "metadata": {},
     "output_type": "execute_result"
    }
   ],
   "source": [
    "#Perform a linear regression to predict Y from X1, X2, and X3 from df_1_1\n",
    "X = df_1_1[['X1', 'X2', 'X3']]\n",
    "y = df_1_1['Y']\n",
    "model = LinearRegression()\n",
    "model.fit(X, y)\n",
    "\n"
   ]
  },
  {
   "cell_type": "code",
   "execution_count": 23,
   "id": "c610891b",
   "metadata": {},
   "outputs": [
    {
     "name": "stdout",
     "output_type": "stream",
     "text": [
      "Simple regression coefficients: {'X1': np.float64(1.8417610991461835), 'X2': np.float64(4.083612579373998), 'X3': np.float64(3.097041202049842)}\n",
      "Multiple regression coefficients: {'X1': np.float64(1.0071376550530298), 'X2': np.float64(1.964568594874394), 'X3': np.float64(2.9754885351634344)}\n",
      "Absolute differences: {'X1': np.float64(0.8346234440931537), 'X2': np.float64(2.119043984499604), 'X3': np.float64(0.12155266688640776)}\n",
      "Xi with greatest difference: X2\n"
     ]
    }
   ],
   "source": [
    "# Store results\n",
    "simple_coefs = {}\n",
    "multi_coefs = dict(zip(['X1', 'X2', 'X3'], model.coef_))\n",
    "\n",
    "for xi in ['X1', 'X2', 'X3']:\n",
    "    X_simple = df_1_1[[xi]]\n",
    "    model_simple = LinearRegression()\n",
    "    model_simple.fit(X_simple, y)\n",
    "    simple_coefs[xi] = model_simple.coef_[0]\n",
    "\n",
    "# Compute differences\n",
    "coef_diffs = {xi: abs(simple_coefs[xi] - multi_coefs[xi]) for xi in ['X1', 'X2', 'X3']}\n",
    "\n",
    "# Find Xi with greatest difference\n",
    "greatest_xi = max(coef_diffs, key=coef_diffs.get)\n",
    "\n",
    "print('Simple regression coefficients:', simple_coefs)\n",
    "print('Multiple regression coefficients:', multi_coefs)\n",
    "print('Absolute differences:', coef_diffs)\n",
    "print(f\"Xi with greatest difference: {greatest_xi}\")"
   ]
  },
  {
   "cell_type": "code",
   "execution_count": 24,
   "id": "c4f1a580",
   "metadata": {},
   "outputs": [
    {
     "name": "stdout",
     "output_type": "stream",
     "text": [
      "t-statistics for each Xi:\n",
      "X1     60.984011\n",
      "X2     53.283212\n",
      "X3    196.645240\n",
      "dtype: float64\n",
      "Most significant Xi (by absolute t-statistic): X3\n"
     ]
    }
   ],
   "source": [
    "# Use statsmodels to get t-statistics for each coefficient\n",
    "X_with_const = sm.add_constant(X)\n",
    "model_sm = sm.OLS(y, X_with_const).fit()\n",
    "\n",
    "# Get t-statistics (excluding the intercept)\n",
    "t_stats = model_sm.tvalues.drop('const')\n",
    "most_significant_xi = t_stats.abs().idxmax()\n",
    "\n",
    "print('t-statistics for each Xi:')\n",
    "print(t_stats)\n",
    "print(f\"Most significant Xi (by absolute t-statistic): {most_significant_xi}\")"
   ]
  },
  {
   "cell_type": "markdown",
   "id": "7a2cc9e8",
   "metadata": {},
   "source": [
    "## Quesstions 4 & 5\n",
    "\n",
    "- Use NearestNeighbors to match data based on variables Z, given the file homework_1.2.csv.\n",
    "- Pick the best match in X = 0 corresponding to each X = 1. Use the Z values to perform the match: a good match with X = 1 is the item whose Z value is closest to the given sample's Z value with X = 0. I suggest using sklearn's NearestNeighbors to do this, but there are many ways to do it.  "
   ]
  },
  {
   "cell_type": "code",
   "execution_count": 25,
   "id": "e9c88e49",
   "metadata": {},
   "outputs": [],
   "source": [
    "#load homework_1.2.csv\n",
    "df_1_2 = pd.read_csv('homework_1.2.csv')"
   ]
  },
  {
   "cell_type": "code",
   "execution_count": 26,
   "id": "a5b93a8f",
   "metadata": {},
   "outputs": [
    {
     "name": "stdout",
     "output_type": "stream",
     "text": [
      "   X1_index      X1_Z  Matched_X0_index  Matched_X0_Z  Distance\n",
      "0         0  0.715189                48      0.716327  0.001138\n",
      "1         1  0.645894                25      0.653108  0.007214\n",
      "2         2  0.437587                18      0.437032  0.000555\n",
      "3         3  0.891773                 9      0.778157  0.113616\n",
      "4         4  0.963663                 9      0.778157  0.185506\n"
     ]
    }
   ],
   "source": [
    "\n",
    "# Split data into X=0 and X=1 groups\n",
    "X0 = df_1_2[df_1_2['X'] == 0].reset_index(drop=True)\n",
    "X1 = df_1_2[df_1_2['X'] == 1].reset_index(drop=True)\n",
    "\n",
    "# Fit NearestNeighbors on Z values of X=1 group\n",
    "nn = NearestNeighbors(n_neighbors=1)\n",
    "nn.fit(X0[['Z']])\n",
    "\n",
    "# Find the closest X=1 for each X=0\n",
    "match_distances, match_indices = nn.kneighbors(X1[['Z']])\n",
    "\n",
    "# Prepare and display the matches\n",
    "matches = []\n",
    "for i, (idx, dist) in enumerate(zip(match_indices.flatten(), match_distances.flatten())):\n",
    "    match = {\n",
    "        'X1_index': X1.index[i],\n",
    "        'X1_Z': X1.loc[i, 'Z'],\n",
    "        'Matched_X0_index': X0.index[idx],\n",
    "        'Matched_X0_Z': X0.loc[idx, 'Z'],\n",
    "        'Distance': dist\n",
    "    }\n",
    "    matches.append(match)\n",
    "\n",
    "\n",
    "matches_df = pd.DataFrame(matches)\n",
    "print(matches_df.head())\n"
   ]
  },
  {
   "cell_type": "code",
   "execution_count": 27,
   "id": "50ebb687",
   "metadata": {},
   "outputs": [
    {
     "data": {
      "text/plain": [
       "np.float64(-0.7938524968121783)"
      ]
     },
     "execution_count": 27,
     "metadata": {},
     "output_type": "execute_result"
    }
   ],
   "source": [
    "X0.Y.mean() - X1.Y.mean()"
   ]
  },
  {
   "cell_type": "code",
   "execution_count": 28,
   "id": "b0282770",
   "metadata": {},
   "outputs": [
    {
     "name": "stdout",
     "output_type": "stream",
     "text": [
      "   X1_index      X1_Z  Matched_X0_index  Matched_X0_Z  Distance\n",
      "0        29  0.988374                 9      0.778157  0.210217\n",
      "1        10  0.978618                 9      0.778157  0.200462\n",
      "2        37  0.976761                 9      0.778157  0.198604\n",
      "3        36  0.976459                 9      0.778157  0.198303\n",
      "4         4  0.963663                 9      0.778157  0.185506\n"
     ]
    }
   ],
   "source": [
    "#order the matches by distance furthest to closest\n",
    "# Sort matches by distance\n",
    "matches_df = matches_df.sort_values(by='Distance', ascending=False).reset_index(drop=True)\n",
    "print(matches_df.head())\n"
   ]
  },
  {
   "cell_type": "code",
   "execution_count": 29,
   "id": "dc1a5648",
   "metadata": {},
   "outputs": [
    {
     "name": "stdout",
     "output_type": "stream",
     "text": [
      "Farthest match distance: 0.2102170871093757\n"
     ]
    }
   ],
   "source": [
    "print(\"Farthest match distance:\", matches_df['Distance'].max())"
   ]
  },
  {
   "cell_type": "code",
   "execution_count": 30,
   "id": "ca32069b",
   "metadata": {},
   "outputs": [],
   "source": [
    "df_X0_matched = X0.iloc[matches_df['Matched_X0_index']]"
   ]
  },
  {
   "cell_type": "code",
   "execution_count": 31,
   "id": "d027ae21",
   "metadata": {},
   "outputs": [
    {
     "name": "stdout",
     "output_type": "stream",
     "text": [
      "Z-score of the farthest match distance: 2.35\n"
     ]
    }
   ],
   "source": [
    "#find the  z-score of the distance of the farthest match\n",
    "farthest_distance = matches_df['Distance'].max()\n",
    "mean_distance = matches_df['Distance'].mean()\n",
    "std_distance = matches_df['Distance'].std()\n",
    "z_score_farthest = (farthest_distance - mean_distance) / std_distance\n",
    "print(f\"Z-score of the farthest match distance: {z_score_farthest:.2f}\")"
   ]
  },
  {
   "cell_type": "code",
   "execution_count": 32,
   "id": "ad7cab1c",
   "metadata": {},
   "outputs": [
    {
     "data": {
      "text/plain": [
       "np.float64(0.5433600651913856)"
      ]
     },
     "execution_count": 32,
     "metadata": {},
     "output_type": "execute_result"
    }
   ],
   "source": [
    "X1.Y.mean() - df_X0_matched.Y.mean()"
   ]
  },
  {
   "cell_type": "markdown",
   "id": "4aacf0cd",
   "metadata": {},
   "source": [
    "### Questions 6 & 7"
   ]
  },
  {
   "cell_type": "code",
   "execution_count": 33,
   "id": "5d99a42a",
   "metadata": {},
   "outputs": [],
   "source": [
    "nn_2 = NearestNeighbors(n_neighbors=1, radius=0.2)\n",
    "nn_2.fit(X1[['Z']])\n",
    "prediction = nn_2.radius_neighbors(X0[['Z']])\n"
   ]
  },
  {
   "cell_type": "code",
   "execution_count": 34,
   "id": "b27fc13d",
   "metadata": {},
   "outputs": [
    {
     "data": {
      "application/vnd.microsoft.datawrangler.viewer.v0+json": {
       "columns": [
        {
         "name": "index",
         "rawType": "object",
         "type": "string"
        },
        {
         "name": "0",
         "rawType": "float64",
         "type": "float"
        }
       ],
       "ref": "d2a7c5e9-531a-4f6f-aac5-6689c9d0d11f",
       "rows": [
        [
         "Unnamed: 0",
         "0.0"
        ],
        [
         "X",
         "0.0"
        ],
        [
         "Y",
         "0.5488135039273248"
        ],
        [
         "Z",
         "0.5488135039273248"
        ]
       ],
       "shape": {
        "columns": 1,
        "rows": 4
       }
      },
      "text/plain": [
       "Unnamed: 0    0.000000\n",
       "X             0.000000\n",
       "Y             0.548814\n",
       "Z             0.548814\n",
       "Name: 0, dtype: float64"
      ]
     },
     "execution_count": 34,
     "metadata": {},
     "output_type": "execute_result"
    }
   ],
   "source": [
    "X0.iloc[0]"
   ]
  },
  {
   "cell_type": "code",
   "execution_count": 35,
   "id": "1bf69a70",
   "metadata": {},
   "outputs": [
    {
     "data": {
      "application/vnd.microsoft.datawrangler.viewer.v0+json": {
       "columns": [
        {
         "name": "index",
         "rawType": "int64",
         "type": "integer"
        },
        {
         "name": "Unnamed: 0",
         "rawType": "int64",
         "type": "integer"
        },
        {
         "name": "X",
         "rawType": "int64",
         "type": "integer"
        },
        {
         "name": "Y",
         "rawType": "float64",
         "type": "float"
        },
        {
         "name": "Z",
         "rawType": "float64",
         "type": "float"
        }
       ],
       "ref": "df357a6a-300a-4ed4-8157-5e8b5e0fc3c6",
       "rows": [
        [
         "0",
         "1",
         "1",
         "1.2151893663724196",
         "0.7151893663724195"
        ],
        [
         "1",
         "5",
         "1",
         "1.1458941130666562",
         "0.6458941130666561"
        ],
        [
         "2",
         "6",
         "1",
         "0.9375872112626924",
         "0.4375872112626925"
        ],
        [
         "5",
         "9",
         "1",
         "0.8834415188257777",
         "0.3834415188257777"
        ],
        [
         "12",
         "22",
         "1",
         "0.9614793622529318",
         "0.4614793622529318"
        ],
        [
         "14",
         "25",
         "1",
         "1.139921021327524",
         "0.6399210213275238"
        ],
        [
         "17",
         "33",
         "1",
         "1.0684339488686485",
         "0.5684339488686485"
        ],
        [
         "18",
         "35",
         "1",
         "1.117635497075877",
         "0.6176354970758771"
        ],
        [
         "19",
         "36",
         "1",
         "1.1120957227224215",
         "0.6120957227224214"
        ],
        [
         "21",
         "39",
         "1",
         "1.1818202991034834",
         "0.6818202991034834"
        ],
        [
         "22",
         "40",
         "1",
         "0.859507900573786",
         "0.359507900573786"
        ],
        [
         "23",
         "42",
         "1",
         "1.197631195927265",
         "0.6976311959272649"
        ],
        [
         "26",
         "49",
         "1",
         "0.8637107709426226",
         "0.3637107709426226"
        ],
        [
         "27",
         "50",
         "1",
         "1.0701967704178796",
         "0.5701967704178796"
        ],
        [
         "28",
         "51",
         "1",
         "0.9386015134623203",
         "0.4386015134623203"
        ],
        [
         "33",
         "65",
         "1",
         "0.8687251706609641",
         "0.3687251706609641"
        ],
        [
         "38",
         "73",
         "1",
         "1.104845519745046",
         "0.604845519745046"
        ],
        [
         "41",
         "81",
         "1",
         "0.91426299451467",
         "0.4142629945146699"
        ],
        [
         "42",
         "83",
         "1",
         "1.1924721193700198",
         "0.6924721193700198"
        ],
        [
         "44",
         "91",
         "1",
         "1.1674103799636817",
         "0.6674103799636817"
        ],
        [
         "46",
         "96",
         "1",
         "1.086512934810083",
         "0.5865129348100832"
        ]
       ],
       "shape": {
        "columns": 4,
        "rows": 21
       }
      },
      "text/html": [
       "<div>\n",
       "<style scoped>\n",
       "    .dataframe tbody tr th:only-of-type {\n",
       "        vertical-align: middle;\n",
       "    }\n",
       "\n",
       "    .dataframe tbody tr th {\n",
       "        vertical-align: top;\n",
       "    }\n",
       "\n",
       "    .dataframe thead th {\n",
       "        text-align: right;\n",
       "    }\n",
       "</style>\n",
       "<table border=\"1\" class=\"dataframe\">\n",
       "  <thead>\n",
       "    <tr style=\"text-align: right;\">\n",
       "      <th></th>\n",
       "      <th>Unnamed: 0</th>\n",
       "      <th>X</th>\n",
       "      <th>Y</th>\n",
       "      <th>Z</th>\n",
       "    </tr>\n",
       "  </thead>\n",
       "  <tbody>\n",
       "    <tr>\n",
       "      <th>0</th>\n",
       "      <td>1</td>\n",
       "      <td>1</td>\n",
       "      <td>1.215189</td>\n",
       "      <td>0.715189</td>\n",
       "    </tr>\n",
       "    <tr>\n",
       "      <th>1</th>\n",
       "      <td>5</td>\n",
       "      <td>1</td>\n",
       "      <td>1.145894</td>\n",
       "      <td>0.645894</td>\n",
       "    </tr>\n",
       "    <tr>\n",
       "      <th>2</th>\n",
       "      <td>6</td>\n",
       "      <td>1</td>\n",
       "      <td>0.937587</td>\n",
       "      <td>0.437587</td>\n",
       "    </tr>\n",
       "    <tr>\n",
       "      <th>5</th>\n",
       "      <td>9</td>\n",
       "      <td>1</td>\n",
       "      <td>0.883442</td>\n",
       "      <td>0.383442</td>\n",
       "    </tr>\n",
       "    <tr>\n",
       "      <th>12</th>\n",
       "      <td>22</td>\n",
       "      <td>1</td>\n",
       "      <td>0.961479</td>\n",
       "      <td>0.461479</td>\n",
       "    </tr>\n",
       "    <tr>\n",
       "      <th>14</th>\n",
       "      <td>25</td>\n",
       "      <td>1</td>\n",
       "      <td>1.139921</td>\n",
       "      <td>0.639921</td>\n",
       "    </tr>\n",
       "    <tr>\n",
       "      <th>17</th>\n",
       "      <td>33</td>\n",
       "      <td>1</td>\n",
       "      <td>1.068434</td>\n",
       "      <td>0.568434</td>\n",
       "    </tr>\n",
       "    <tr>\n",
       "      <th>18</th>\n",
       "      <td>35</td>\n",
       "      <td>1</td>\n",
       "      <td>1.117635</td>\n",
       "      <td>0.617635</td>\n",
       "    </tr>\n",
       "    <tr>\n",
       "      <th>19</th>\n",
       "      <td>36</td>\n",
       "      <td>1</td>\n",
       "      <td>1.112096</td>\n",
       "      <td>0.612096</td>\n",
       "    </tr>\n",
       "    <tr>\n",
       "      <th>21</th>\n",
       "      <td>39</td>\n",
       "      <td>1</td>\n",
       "      <td>1.181820</td>\n",
       "      <td>0.681820</td>\n",
       "    </tr>\n",
       "    <tr>\n",
       "      <th>22</th>\n",
       "      <td>40</td>\n",
       "      <td>1</td>\n",
       "      <td>0.859508</td>\n",
       "      <td>0.359508</td>\n",
       "    </tr>\n",
       "    <tr>\n",
       "      <th>23</th>\n",
       "      <td>42</td>\n",
       "      <td>1</td>\n",
       "      <td>1.197631</td>\n",
       "      <td>0.697631</td>\n",
       "    </tr>\n",
       "    <tr>\n",
       "      <th>26</th>\n",
       "      <td>49</td>\n",
       "      <td>1</td>\n",
       "      <td>0.863711</td>\n",
       "      <td>0.363711</td>\n",
       "    </tr>\n",
       "    <tr>\n",
       "      <th>27</th>\n",
       "      <td>50</td>\n",
       "      <td>1</td>\n",
       "      <td>1.070197</td>\n",
       "      <td>0.570197</td>\n",
       "    </tr>\n",
       "    <tr>\n",
       "      <th>28</th>\n",
       "      <td>51</td>\n",
       "      <td>1</td>\n",
       "      <td>0.938602</td>\n",
       "      <td>0.438602</td>\n",
       "    </tr>\n",
       "    <tr>\n",
       "      <th>33</th>\n",
       "      <td>65</td>\n",
       "      <td>1</td>\n",
       "      <td>0.868725</td>\n",
       "      <td>0.368725</td>\n",
       "    </tr>\n",
       "    <tr>\n",
       "      <th>38</th>\n",
       "      <td>73</td>\n",
       "      <td>1</td>\n",
       "      <td>1.104846</td>\n",
       "      <td>0.604846</td>\n",
       "    </tr>\n",
       "    <tr>\n",
       "      <th>41</th>\n",
       "      <td>81</td>\n",
       "      <td>1</td>\n",
       "      <td>0.914263</td>\n",
       "      <td>0.414263</td>\n",
       "    </tr>\n",
       "    <tr>\n",
       "      <th>42</th>\n",
       "      <td>83</td>\n",
       "      <td>1</td>\n",
       "      <td>1.192472</td>\n",
       "      <td>0.692472</td>\n",
       "    </tr>\n",
       "    <tr>\n",
       "      <th>44</th>\n",
       "      <td>91</td>\n",
       "      <td>1</td>\n",
       "      <td>1.167410</td>\n",
       "      <td>0.667410</td>\n",
       "    </tr>\n",
       "    <tr>\n",
       "      <th>46</th>\n",
       "      <td>96</td>\n",
       "      <td>1</td>\n",
       "      <td>1.086513</td>\n",
       "      <td>0.586513</td>\n",
       "    </tr>\n",
       "  </tbody>\n",
       "</table>\n",
       "</div>"
      ],
      "text/plain": [
       "    Unnamed: 0  X         Y         Z\n",
       "0            1  1  1.215189  0.715189\n",
       "1            5  1  1.145894  0.645894\n",
       "2            6  1  0.937587  0.437587\n",
       "5            9  1  0.883442  0.383442\n",
       "12          22  1  0.961479  0.461479\n",
       "14          25  1  1.139921  0.639921\n",
       "17          33  1  1.068434  0.568434\n",
       "18          35  1  1.117635  0.617635\n",
       "19          36  1  1.112096  0.612096\n",
       "21          39  1  1.181820  0.681820\n",
       "22          40  1  0.859508  0.359508\n",
       "23          42  1  1.197631  0.697631\n",
       "26          49  1  0.863711  0.363711\n",
       "27          50  1  1.070197  0.570197\n",
       "28          51  1  0.938602  0.438602\n",
       "33          65  1  0.868725  0.368725\n",
       "38          73  1  1.104846  0.604846\n",
       "41          81  1  0.914263  0.414263\n",
       "42          83  1  1.192472  0.692472\n",
       "44          91  1  1.167410  0.667410\n",
       "46          96  1  1.086513  0.586513"
      ]
     },
     "execution_count": 35,
     "metadata": {},
     "output_type": "execute_result"
    }
   ],
   "source": [
    "X1.iloc[[ 0,  1,  2,  5, 12, 14, 17, 18, 19, 21, 22, 23, 26, 27, 28, 33, 38,\n",
    "              41, 42, 44, 46]]"
   ]
  },
  {
   "cell_type": "code",
   "execution_count": 36,
   "id": "4e6a690c",
   "metadata": {},
   "outputs": [
    {
     "name": "stdout",
     "output_type": "stream",
     "text": [
      "Estimated effect (neighbor mean difference): -0.33800751142229835\n"
     ]
    }
   ],
   "source": [
    "# For each X0, find neighbors in X1 within radius 0.2, compute mean Y for each group, then average\n",
    "radius = 0.2\n",
    "nn_X0 = NearestNeighbors(radius=radius)\n",
    "nn_X0.fit(X1[['Z']])\n",
    "indices_X0 = nn_X0.radius_neighbors(X0[['Z']], return_distance=False)\n",
    "\n",
    "mean_Y_X0 = []\n",
    "for idxs in indices_X0:\n",
    "    if len(idxs) > 0:\n",
    "        mean_Y_X0.append(X1.iloc[idxs]['Y'].mean())\n",
    "    else:\n",
    "        mean_Y_X0.append(np.nan)\n",
    "mean_Y_X0 = pd.Series(mean_Y_X0).dropna()\n",
    "\n",
    "# For each X1, find neighbors in X0 within radius 0.2, compute mean Y for each group, then average\n",
    "nn_X1 = NearestNeighbors(radius=radius)\n",
    "nn_X1.fit(X0[['Z']])\n",
    "indices_X1 = nn_X1.radius_neighbors(X1[['Z']], return_distance=False)\n",
    "\n",
    "mean_Y_X1 = []\n",
    "for idxs in indices_X1:\n",
    "    if len(idxs) > 0:\n",
    "        mean_Y_X1.append(X0.iloc[idxs]['Y'].mean())\n",
    "    else:\n",
    "        mean_Y_X1.append(np.nan)\n",
    "mean_Y_X1 = pd.Series(mean_Y_X1).dropna()\n",
    "\n",
    "# Compute the effect\n",
    "effect = mean_Y_X1.mean() - mean_Y_X0.mean()\n",
    "print(f\"Estimated effect (neighbor mean difference): {effect}\")\n"
   ]
  },
  {
   "cell_type": "code",
   "execution_count": 37,
   "id": "1122d3a7",
   "metadata": {},
   "outputs": [
    {
     "name": "stdout",
     "output_type": "stream",
     "text": [
      "Number of duplicates (all but first in each group): 685\n"
     ]
    }
   ],
   "source": [
    "radius = 0.2\n",
    "nn = NearestNeighbors(radius=radius)\n",
    "nn.fit(X0[['Z']])\n",
    "indices = nn.radius_neighbors(X1[['Z']], return_distance=False)\n",
    "\n",
    "# Flatten the list of neighbor indices and count occurrences\n",
    "from collections import Counter\n",
    "all_neighbor_indices = [idx for group in indices for idx in group]\n",
    "counts = Counter(all_neighbor_indices)\n",
    "\n",
    "duplicate_count = sum(count - 1 for count in counts.values() if count > 1)\n",
    "print(f\"Number of duplicates (all but first in each group): {duplicate_count}\")\n"
   ]
  },
  {
   "cell_type": "markdown",
   "id": "d614d04e",
   "metadata": {},
   "source": [
    "## Homework Reflection \n",
    "\n",
    "1. In Coding Quiz 1, you are asked to find the distance of the farthest match in a set.  Is this farthest match distance too far to be a meaningful match?  How can you decide this?\n",
    "\n",
    "To determine if a distance is too far, you first have to define what too far is. If you have some domain knowledge, you may already have a definition of what may be considered too far. Without domain knowledge, you can rely on statistical analysis to calculate if the distances are outliers. For example, if the furthest match has a z-score higher than 2 or 3, it may be considered an outlier and thus can be deemed too far.  \n",
    "Using statistical calculations, the z-score for the farthest match is 2.35, which may be considered too far. \n",
    "\n",
    "2. In Coding Quiz 1, there are two approaches to matching: \n",
    "(A) Picking the best match X = 0 corresponding to each X = 1 using Z values.\n",
    "(B) Using radius_neighbors to pick all matches X = 0 within a distance or 0.2 of each X = 1.\n",
    "Invent your own type of matching similar to 1 and 2 (or look one up on the internet), which has a different way to pick the matches in X = 0.  Clearly explain the approach you invented or found.\n",
    "\n",
    "Building on best match and radius neighbors, you could combine the two approaches and calculate points that are close and in a dense region of similar points. This would make the matching process more robust to outliers and sparsely populated regions.\n"
   ]
  }
 ],
 "metadata": {
  "kernelspec": {
   "display_name": ".venv",
   "language": "python",
   "name": "python3"
  },
  "language_info": {
   "codemirror_mode": {
    "name": "ipython",
    "version": 3
   },
   "file_extension": ".py",
   "mimetype": "text/x-python",
   "name": "python",
   "nbconvert_exporter": "python",
   "pygments_lexer": "ipython3",
   "version": "3.12.4"
  }
 },
 "nbformat": 4,
 "nbformat_minor": 5
}
