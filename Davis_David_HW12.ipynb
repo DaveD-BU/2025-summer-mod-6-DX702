{
 "cells": [
  {
   "cell_type": "code",
   "execution_count": 19,
   "id": "23212f4d",
   "metadata": {},
   "outputs": [],
   "source": [
    "import numpy as np\n",
    "import pandas as pd\n",
    "\n",
    "import statsmodels.formula.api as smf\n",
    "import statsmodels.api as sm\n",
    "\n",
    "import matplotlib.pyplot as plt\n"
   ]
  },
  {
   "cell_type": "markdown",
   "id": "06f46444",
   "metadata": {},
   "source": [
    "## Question 1\n",
    "\n",
    "Find the effect in dataset 12.1, given that Group = 1 is the treatment group and Time > 0 is the treatment time. "
   ]
  },
  {
   "cell_type": "code",
   "execution_count": 2,
   "id": "dbd1128f",
   "metadata": {},
   "outputs": [],
   "source": [
    "# Load data\n",
    "df = pd.read_csv('homework_12.1.csv')"
   ]
  },
  {
   "cell_type": "code",
   "execution_count": 3,
   "id": "fe46b9e8",
   "metadata": {},
   "outputs": [],
   "source": [
    "# Create indicators for post-treatment and treatment group\n",
    "df[\"Post\"] = (df[\"Time\"] > 0).astype(int)\n",
    "df[\"Treatment\"] = (df[\"Group\"] == 1).astype(int)\n"
   ]
  },
  {
   "cell_type": "code",
   "execution_count": 4,
   "id": "cfc878bf",
   "metadata": {},
   "outputs": [],
   "source": [
    "# Compute means for each group/time combination\n",
    "mean_treat_post = df[(df[\"Treatment\"] == 1) & (df[\"Post\"] == 1)][\"Y\"].mean()\n",
    "mean_treat_pre = df[(df[\"Treatment\"] == 1) & (df[\"Post\"] == 0)][\"Y\"].mean()\n",
    "mean_control_post = df[(df[\"Treatment\"] == 0) & (df[\"Post\"] == 1)][\"Y\"].mean()\n",
    "mean_control_pre = df[(df[\"Treatment\"] == 0) & (df[\"Post\"] == 0)][\"Y\"].mean()"
   ]
  },
  {
   "cell_type": "code",
   "execution_count": 5,
   "id": "f3ca7578",
   "metadata": {},
   "outputs": [
    {
     "name": "stdout",
     "output_type": "stream",
     "text": [
      "Treatment Effect (DiD): 0.9440103783528997\n"
     ]
    }
   ],
   "source": [
    "# Difference-in-differences estimate\n",
    "effect = (mean_treat_post - mean_treat_pre) - (mean_control_post - mean_control_pre)\n",
    "print(\"Treatment Effect (DiD):\", effect)"
   ]
  },
  {
   "cell_type": "markdown",
   "id": "6113d12e",
   "metadata": {},
   "source": [
    "## Question 2\n",
    "\n",
    "With dataset 12.2, run a test to check prior trends. To do this, run a linear regression on the data before Time = 0, with an interaction term equal to Group x Time. Which is the closest to the t-value of the interaction term? "
   ]
  },
  {
   "cell_type": "code",
   "execution_count": 6,
   "id": "de588704",
   "metadata": {},
   "outputs": [],
   "source": [
    "# Load data\n",
    "df = pd.read_csv('homework_12.2.csv')"
   ]
  },
  {
   "cell_type": "code",
   "execution_count": 7,
   "id": "614e5809",
   "metadata": {},
   "outputs": [],
   "source": [
    "# Keep only pre-treatment period (Time < 0)\n",
    "df_pre = df[df[\"Time\"] < 0].copy()"
   ]
  },
  {
   "cell_type": "code",
   "execution_count": 8,
   "id": "dcb1ce76",
   "metadata": {},
   "outputs": [],
   "source": [
    "# Add interaction term Group * Time\n",
    "df_pre[\"Group_Time\"] = df_pre[\"Group\"] * df_pre[\"Time\"]"
   ]
  },
  {
   "cell_type": "code",
   "execution_count": 9,
   "id": "d363b241",
   "metadata": {},
   "outputs": [
    {
     "name": "stdout",
     "output_type": "stream",
     "text": [
      "T-value for Group × Time interaction term: 5.329379663923836\n"
     ]
    }
   ],
   "source": [
    "# Run regression: Y ~ Group + Time + Group*Time\n",
    "model = smf.ols(\"Y ~ Group + Time + Group_Time\", data=df_pre).fit()\n",
    "\n",
    "# Output t-value for interaction term\n",
    "t_value_interaction = model.tvalues[\"Group_Time\"]\n",
    "print(\"T-value for Group × Time interaction term:\", t_value_interaction)"
   ]
  },
  {
   "cell_type": "markdown",
   "id": "47531fe7",
   "metadata": {},
   "source": [
    "## Question 3\n",
    "\n",
    "With the following, make an error such that the correlation (np.corrcoef) between the error at time t and time t + 1 is 0.80 on average, the mean error is 0, and the standard deviation of the error is 1. (These may be approximate.) There are 10,000 items. Given: \n",
    "\n",
    "X = this error \n",
    "\n",
    "Y = 2 * X + this error (recalculated with new randomness relative to the previous line) \n",
    "\n",
    "\n",
    "The standard error of the estimated X coefficient computed via Ordinary Least Squares (OLS) basic standard error should be about 0.01. Then the standard error computed via simulation (the standard deviation of the estimated coefficient over many trials) is closest to: \n",
    "\n",
    "Note: you might consider Googling / asking ChatGPT how to generate an autocorrelated time series with a specific correlation and standard deviation. "
   ]
  },
  {
   "cell_type": "code",
   "execution_count": 14,
   "id": "8e99cabd",
   "metadata": {},
   "outputs": [],
   "source": [
    "def make_error(n, rho):\n",
    "    # AR(1) process\n",
    "    e = np.zeros(n)\n",
    "    e[0] = np.random.normal()\n",
    "    for t in range(1, n):\n",
    "        e[t] = rho * e[t-1] + np.sqrt(1 - rho**2) * np.random.normal()\n",
    "    \n",
    "    return e\n"
   ]
  },
  {
   "cell_type": "code",
   "execution_count": 13,
   "id": "2ee11ff3",
   "metadata": {},
   "outputs": [
    {
     "name": "stdout",
     "output_type": "stream",
     "text": [
      "Mean OLS SE: 0.010005821544075184\n",
      "Simulation-based SE: 0.02063883057961503\n"
     ]
    }
   ],
   "source": [
    "np.random.seed(0)\n",
    "\n",
    "n = 10_000\n",
    "rho = 0.80\n",
    "trials = 200\n",
    "\n",
    "\n",
    "ols_ses = []\n",
    "sim_coefs = []\n",
    "\n",
    "for _ in range(trials):\n",
    "    # Generate X's error\n",
    "    err_x = make_error(n, rho)\n",
    "    X = err_x\n",
    "\n",
    "    # Generate Y's error (new randomness, independent from X's error)\n",
    "    err_y = make_error(n, rho)\n",
    "    Y = 2 * X + err_y\n",
    "\n",
    "    # Run OLS\n",
    "    X_ols = sm.add_constant(X)\n",
    "    model = sm.OLS(Y, X_ols).fit()\n",
    "\n",
    "    ols_ses.append(model.bse[1])\n",
    "    sim_coefs.append(model.params[1])\n",
    "\n",
    "# Basic OLS SE (mean over trials)\n",
    "mean_basic_se = np.mean(ols_ses)\n",
    "\n",
    "# Simulation SE (std dev of coefficient estimates)\n",
    "sim_se = np.std(sim_coefs, ddof=1)\n",
    "\n",
    "print(\"Mean OLS SE:\", mean_basic_se)\n",
    "print(\"Simulation-based SE:\", sim_se)"
   ]
  },
  {
   "cell_type": "markdown",
   "id": "86756b81",
   "metadata": {},
   "source": [
    "## Question 4\n",
    "\n",
    "\n",
    "Find the variance inflation factor of X1: \n",
    "\n",
    "   np.random.seed(0) \n",
    "\n",
    "   X1 = np.random.normal(0, 1, 1000)\n",
    "\n",
    "   X2 = np.random.normal(0, 1, 1000) + X1 \n",
    "   \n",
    "   X3 = np.random.normal(0, 1, 1000) + 2 * X2 "
   ]
  },
  {
   "cell_type": "code",
   "execution_count": 15,
   "id": "b13ece60",
   "metadata": {},
   "outputs": [
    {
     "name": "stdout",
     "output_type": "stream",
     "text": [
      "R^2 (X1 ~ X2 + X3): 0.4945344638582029\n",
      "VIF for X1: 1.9783742480901254\n"
     ]
    }
   ],
   "source": [
    "np.random.seed(0)\n",
    "X1 = np.random.normal(0, 1, 1000)\n",
    "X2 = np.random.normal(0, 1, 1000) + X1\n",
    "X3 = np.random.normal(0, 1, 1000) + 2 * X2\n",
    "\n",
    "# Regress X1 on X2 and X3 to get R^2, then VIF = 1/(1 - R^2)\n",
    "X = np.column_stack([X2, X3])\n",
    "X = sm.add_constant(X)\n",
    "model = sm.OLS(X1, X).fit()\n",
    "R2 = model.rsquared\n",
    "VIF_X1 = 1 / (1 - R2)\n",
    "\n",
    "print(\"R^2 (X1 ~ X2 + X3):\", R2)\n",
    "print(\"VIF for X1:\", VIF_X1)    "
   ]
  },
  {
   "cell_type": "markdown",
   "id": "1cc26d2c",
   "metadata": {},
   "source": [
    "## Homework Reflection \n",
    "\n",
    "Construct a dataset in which prior trends do not hold, and in which this makes the differences-in-differences come out wrong.  Explain why the\n",
    "differences-in-differences estimate of the effect comes out higher or lower than the actual effect."
   ]
  },
  {
   "cell_type": "code",
   "execution_count": 17,
   "id": "7bd4d3b4",
   "metadata": {},
   "outputs": [],
   "source": [
    "np.random.seed(0)\n",
    "\n",
    "# --- Parameters ---\n",
    "T_pre = np.arange(-5, 0)     # pre: -5..-1\n",
    "T_post = np.arange(0, 6)     # post: 0..5\n",
    "times = np.concatenate([T_pre, T_post])\n",
    "n_per_cell = 500             # individuals per (group, time)\n",
    "\n",
    "beta = 0.3                   # common baseline time trend\n",
    "delta = 0.20                 # EXTRA slope for treated group (violates parallel trends)\n",
    "tau_true = 0.0               # TRUE treatment effect (we'll set to zero to show DiD bias)\n",
    "alpha = 1.0\n",
    "gamma_group = 1.0            # level difference for treated group\n",
    "\n",
    "# --- Build panel-like dataset ---\n",
    "rows = []\n",
    "for g in [0, 1]:  # 0=control, 1=treated\n",
    "    for t in times:\n",
    "        # Treatment turns on at time >= 0 for treated group\n",
    "        post = 1 if t >= 0 else 0\n",
    "        treat = 1 if (g == 1 and post == 1) else 0\n",
    "        \n",
    "        # Generate individuals\n",
    "        eps = np.random.normal(0, 1, n_per_cell)\n",
    "        # Outcome model with DIFFERENTIAL trend for treated (delta), no actual treatment effect (tau_true=0)\n",
    "        y = (alpha\n",
    "             + beta * t\n",
    "             + gamma_group * g\n",
    "             + delta * t * g\n",
    "             + tau_true * treat\n",
    "             + eps)\n",
    "        \n",
    "        for i in range(n_per_cell):\n",
    "            rows.append((y[i], t, g, post, treat))\n",
    "\n",
    "df = pd.DataFrame(rows, columns=[\"Y\", \"Time\", \"Group\", \"Post\", \"Treat\"])"
   ]
  },
  {
   "cell_type": "markdown",
   "id": "c0c905cf",
   "metadata": {},
   "source": [
    "When parallel trends do not hold, the differences-in-differences (DiD) estimator picks up not just the treatment effect, but also any pre-existing difference in trends between the groups. If prior trends differ (e.g., the treated group was already increasing faster), the control group no longer represents a valid counterfactual.\n",
    "\n"
   ]
  },
  {
   "cell_type": "code",
   "execution_count": 18,
   "id": "bc556080",
   "metadata": {},
   "outputs": [],
   "source": [
    "# --- Manual DiD (two-period-style using pre vs post averages) ---\n",
    "mean_treat_post = df[(df.Group == 1) & (df.Post == 1)].Y.mean()\n",
    "mean_treat_pre  = df[(df.Group == 1) & (df.Post == 0)].Y.mean()\n",
    "mean_ctrl_post  = df[(df.Group == 0) & (df.Post == 1)].Y.mean()\n",
    "mean_ctrl_pre   = df[(df.Group == 0) & (df.Post == 0)].Y.mean()\n",
    "did_manual = (mean_treat_post - mean_treat_pre) - (mean_ctrl_post - mean_ctrl_pre)\n",
    "\n",
    "# --- Regression DiD: Y ~ Group + Post + Group*Post ---\n",
    "model_did = smf.ols(\"Y ~ C(Group) + C(Post) + C(Group):C(Post)\", data=df).fit()\n",
    "did_reg = model_did.params[\"C(Group)[T.1]:C(Post)[T.1]\"]\n",
    "\n",
    "# --- Prior-trends check on PRE period: Y ~ Group + Time + Group*Time ---\n",
    "df_pre = df[df.Post == 0].copy()\n",
    "model_pre = smf.ols(\"Y ~ C(Group) + Time + C(Group):Time\", data=df_pre).fit()\n",
    "t_interaction = model_pre.tvalues[\"C(Group)[T.1]:Time\"]\n",
    "coef_interaction = model_pre.params[\"C(Group)[T.1]:Time\"]\n",
    "\n",
    "# --- Summaries ---\n",
    "summary = {\n",
    "    \"TRUE treatment effect (tau_true)\": tau_true,\n",
    "    \"Manual DiD estimate\": did_manual,\n",
    "    \"Regression DiD estimate\": did_reg,\n",
    "    \"Pre-period differential slope (coef on Group×Time)\": coef_interaction,\n",
    "    \"t-value for Group×Time (pre-period)\": t_interaction\n",
    "}\n",
    "summary_df = pd.DataFrame.from_dict(summary, orient=\"index\", columns=[\"Value\"])"
   ]
  },
  {
   "cell_type": "code",
   "execution_count": 21,
   "id": "ab7c157e",
   "metadata": {},
   "outputs": [
    {
     "data": {
      "image/png": "[encoded data removed]",
      "text/plain": [
       "<Figure size 700x400 with 1 Axes>"
      ]
     },
     "metadata": {},
     "output_type": "display_data"
    }
   ],
   "source": [
    "# --- Plot average outcomes over time by group to visualize non-parallel trends ---\n",
    "avg = df.groupby([\"Time\", \"Group\"])[\"Y\"].mean().reset_index()\n",
    "pivot_avg = avg.pivot(index=\"Time\", columns=\"Group\", values=\"Y\")\n",
    "plt.figure(figsize=(7,4))\n",
    "plt.plot(pivot_avg.index, pivot_avg[0], label=\"Control (Group=0)\")\n",
    "plt.plot(pivot_avg.index, pivot_avg[1], label=\"Treated (Group=1)\")\n",
    "plt.axvline(0, linestyle=\"--\", label=\"Treatment starts (t=0)\")\n",
    "plt.xlabel(\"Time\")\n",
    "plt.ylabel(\"Average Y\")\n",
    "plt.title(\"Non-parallel pre-trends → Biased DiD (true effect = 0)\")\n",
    "plt.legend()\n",
    "plt.tight_layout()\n",
    "plt.show()"
   ]
  }
 ],
 "metadata": {
  "kernelspec": {
   "display_name": ".venv",
   "language": "python",
   "name": "python3"
  },
  "language_info": {
   "codemirror_mode": {
    "name": "ipython",
    "version": 3
   },
   "file_extension": ".py",
   "mimetype": "text/x-python",
   "name": "python",
   "nbconvert_exporter": "python",
   "pygments_lexer": "ipython3",
   "version": "3.12.4"
  }
 },
 "nbformat": 4,
 "nbformat_minor": 5
}
