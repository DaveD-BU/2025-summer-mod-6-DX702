{
 "cells": [
  {
   "cell_type": "code",
   "execution_count": 5,
   "id": "eef98b4d",
   "metadata": {},
   "outputs": [],
   "source": [
    "import pandas as pd\n",
    "import numpy as np\n",
    "import matplotlib.pyplot as plt\n",
    "import statsmodels.api as sm\n",
    "import statsmodels.formula.api as smf\n"
   ]
  },
  {
   "cell_type": "markdown",
   "id": "52f1d018",
   "metadata": {},
   "source": [
    "## Question 1 & 2\n",
    "\n",
    "Given data about an instrumental variable, find the effect. X is the treatment, W the confounder, Y the outcome, and Z the instrument. Use homework_4.1.csv. "
   ]
  },
  {
   "cell_type": "code",
   "execution_count": 6,
   "id": "a254eb23",
   "metadata": {},
   "outputs": [],
   "source": [
    "df_4_1 = pd.read_csv('homework_4.1.csv')\n",
    "\n"
   ]
  },
  {
   "cell_type": "markdown",
   "id": "db25f3fb",
   "metadata": {},
   "source": [
    "Subtract the average ﻿Y﻿ value for ﻿Z equals 1﻿ and ﻿Z equals 0﻿. Subtract the average ﻿X﻿ value for ﻿Z equals 1﻿ and ﻿Z equals 0﻿. Divide the two. "
   ]
  },
  {
   "cell_type": "code",
   "execution_count": 7,
   "id": "0ef3385e",
   "metadata": {},
   "outputs": [
    {
     "name": "stdout",
     "output_type": "stream",
     "text": [
      "Result: 1.5618587073955674\n"
     ]
    }
   ],
   "source": [
    "avg_y_z1 = df_4_1[df_4_1['Z'] == 1]['Y'].mean()\n",
    "avg_y_z0 = df_4_1[df_4_1['Z'] == 0]['Y'].mean()\n",
    "avg_x_z1 = df_4_1[df_4_1['Z'] == 1]['X'].mean()\n",
    "avg_x_z0 = df_4_1[df_4_1['Z'] == 0]['X'].mean()\n",
    "\n",
    "# Apply formula\n",
    "result = (avg_y_z1 - avg_y_z0) / (avg_x_z1 - avg_x_z0)\n",
    "print(\"Result:\", result)"
   ]
  },
  {
   "cell_type": "markdown",
   "id": "8702e758",
   "metadata": {},
   "source": [
    "Find the average ﻿Y﻿ value for ﻿Z equals 1﻿ and ﻿Z equals 0﻿ for a narrow range of ﻿W﻿. Find the average ﻿X﻿ value for ﻿Z equals 1﻿ and ﻿Z equals 0﻿ for the same narrow range of ﻿W﻿. Take the ratio to find the effect. Then average this over all the ranges of ﻿W﻿. \n"
   ]
  },
  {
   "cell_type": "code",
   "execution_count": 8,
   "id": "b90c3339",
   "metadata": {},
   "outputs": [
    {
     "name": "stdout",
     "output_type": "stream",
     "text": [
      "Estimated Effect (Average over W bins): 1.5156437668382101\n"
     ]
    }
   ],
   "source": [
    "data_sorted_4_4 = df_4_1.sort_values(\"W\")\n",
    "num_bins = 5  # You can adjust the granularity\n",
    "data_sorted_4_4[\"W_bin\"] = pd.qcut(data_sorted_4_4[\"W\"], q=num_bins, duplicates='drop')\n",
    "\n",
    "# Container for local effects\n",
    "local_effects_4_1 = []\n",
    "\n",
    "# Loop over each bin\n",
    "for bin_label, group in data_sorted_4_4.groupby(\"W_bin\", observed=True):\n",
    "    z1 = group[group[\"Z\"] == 1]\n",
    "    z0 = group[group[\"Z\"] == 0]\n",
    "\n",
    "    # Only proceed if both Z=1 and Z=0 are present in the bin\n",
    "    if len(z1) > 0 and len(z0) > 0:\n",
    "        avg_y_diff = z1[\"Y\"].mean() - z0[\"Y\"].mean()\n",
    "        avg_x_diff = z1[\"X\"].mean() - z0[\"X\"].mean()\n",
    "\n",
    "        # Avoid divide by zero\n",
    "        if avg_x_diff != 0:\n",
    "            local_effects_4_1.append(avg_y_diff / avg_x_diff)\n",
    "\n",
    "# Final estimate: average of local effects\n",
    "final_effect_4_1 = np.mean(local_effects_4_1)\n",
    "print(\"Estimated Effect (Average over W bins):\", final_effect_4_1)"
   ]
  },
  {
   "cell_type": "markdown",
   "id": "10ab956f",
   "metadata": {},
   "source": [
    "## Question 3-5\n",
    "\n",
    "Given student data involving test scores (﻿X﻿), a cutoff, and an outcome (Y), which measures whether the students got into college (as in the example in the text), determine whether the math course helps students get into college in each dataset. Use datasets homework_4.2.a and homework_4.2.b. "
   ]
  },
  {
   "cell_type": "code",
   "execution_count": 10,
   "id": "bcaa7d11",
   "metadata": {},
   "outputs": [],
   "source": [
    "df_4_2_a = pd.read_csv('homework_4.2.a.csv')\n",
    "df_4_2_b = pd.read_csv('homework_4.2.b.csv')"
   ]
  },
  {
   "cell_type": "code",
   "execution_count": 17,
   "id": "3bcdd8f8",
   "metadata": {},
   "outputs": [],
   "source": [
    "def plot_rdd(data, cutoff=80, x_col='X', y_col='Y'):\n",
    "    \"\"\"\n",
    "    Plot regression discontinuity and fit separate linear models before and after the cutoff.\n",
    "\n",
    "    Parameters:\n",
    "        data (pd.DataFrame): DataFrame with columns for the running variable and outcome.\n",
    "        cutoff (float): The cutoff value for the running variable.\n",
    "        x_col (str): Column name for the running variable.\n",
    "        y_col (str): Column name for the outcome variable.\n",
    "\n",
    "    Returns:\n",
    "        model_below, model_above: Fitted OLS models for below and above cutoff.\n",
    "    \"\"\"\n",
    "    # Create a \"running variable\" centered at cutoff\n",
    "    data = data.copy()\n",
    "    data['X_centered'] = data[x_col] - cutoff\n",
    "    data['above_cutoff'] = (data[x_col] >= cutoff).astype(int)\n",
    "\n",
    "    # Separate datasets for before and after the cutoff\n",
    "    data_below = data[data[x_col] < cutoff]\n",
    "    data_above = data[data[x_col] >= cutoff]\n",
    "\n",
    "    # Fit separate linear models before and after the cutoff\n",
    "    X_below = sm.add_constant(data_below['X_centered'])\n",
    "    model_below = sm.OLS(data_below[y_col], X_below).fit()\n",
    "\n",
    "    X_above = sm.add_constant(data_above['X_centered'])\n",
    "    model_above = sm.OLS(data_above[y_col], X_above).fit()\n",
    "\n",
    "    print(\"Slope before cutoff:\", model_below.params['X_centered'])\n",
    "    print(\"Slope after cutoff:\", model_above.params['X_centered'])\n",
    "\n",
    "    # Plot for visualization\n",
    "    plt.scatter(data[x_col], data[y_col], alpha=0.5, label='Data')\n",
    "\n",
    "    # Plot regression lines\n",
    "    x_vals_below = data_below['X_centered']\n",
    "    y_vals_below = model_below.predict(sm.add_constant(x_vals_below))\n",
    "    plt.plot(data_below[x_col], y_vals_below, color='red', label='Below cutoff fit')\n",
    "\n",
    "    x_vals_above = data_above['X_centered']\n",
    "    y_vals_above = model_above.predict(sm.add_constant(x_vals_above))\n",
    "    plt.plot(data_above[x_col], y_vals_above, color='green', label='Above cutoff fit')\n",
    "\n",
    "    plt.axvline(cutoff, color='black', linestyle='--', label='Cutoff')\n",
    "    plt.xlabel(x_col)\n",
    "    plt.ylabel(y_col)\n",
    "    plt.title(\"Regression Discontinuity around Cutoff\")\n",
    "    plt.legend()\n",
    "    plt.show()\n",
    "\n",
    "    return model_below, model_above"
   ]
  },
  {
   "cell_type": "code",
   "execution_count": 20,
   "id": "4cde6d5d",
   "metadata": {},
   "outputs": [
    {
     "name": "stdout",
     "output_type": "stream",
     "text": [
      "Slope before cutoff: 0.0002238307970367562\n",
      "Slope after cutoff: 0.00016108686482243465\n"
     ]
    },
    {
     "data": {
      "image/png": "[encoded data removed]",
      "text/plain": [
       "<Figure size 640x480 with 1 Axes>"
      ]
     },
     "metadata": {},
     "output_type": "display_data"
    }
   ],
   "source": [
    "below_4_2_a, above_4_2_a = plot_rdd(df_4_2_a, cutoff=80)"
   ]
  },
  {
   "cell_type": "code",
   "execution_count": 21,
   "id": "038d909a",
   "metadata": {},
   "outputs": [
    {
     "name": "stdout",
     "output_type": "stream",
     "text": [
      "BELOW cutoff:\n",
      "                            OLS Regression Results                            \n",
      "==============================================================================\n",
      "Dep. Variable:                      Y   R-squared:                       0.000\n",
      "Model:                            OLS   Adj. R-squared:                 -0.000\n",
      "Method:                 Least Squares   F-statistic:                    0.4305\n",
      "Date:                Sat, 14 Jun 2025   Prob (F-statistic):              0.512\n",
      "Time:                        10:25:49   Log-Likelihood:                -32034.\n",
      "No. Observations:               49926   AIC:                         6.407e+04\n",
      "Df Residuals:                   49924   BIC:                         6.409e+04\n",
      "Df Model:                           1                                         \n",
      "Covariance Type:            nonrobust                                         \n",
      "==============================================================================\n",
      "                 coef    std err          t      P>|t|      [0.025      0.975]\n",
      "------------------------------------------------------------------------------\n",
      "const          0.3050      0.003     89.337      0.000       0.298       0.312\n",
      "X_centered     0.0002      0.000      0.656      0.512      -0.000       0.001\n",
      "==============================================================================\n",
      "Omnibus:                   101792.252   Durbin-Watson:                   2.002\n",
      "Prob(Omnibus):                  0.000   Jarque-Bera (JB):             9439.057\n",
      "Skew:                           0.856   Prob(JB):                         0.00\n",
      "Kurtosis:                       1.733   Cond. No.                         16.7\n",
      "==============================================================================\n",
      "\n",
      "Notes:\n",
      "[1] Standard Errors assume that the covariance matrix of the errors is correctly specified.\n",
      "\n",
      "ABOVE cutoff:\n",
      "                            OLS Regression Results                            \n",
      "==============================================================================\n",
      "Dep. Variable:                      Y   R-squared:                       0.000\n",
      "Model:                            OLS   Adj. R-squared:                 -0.000\n",
      "Method:                 Least Squares   F-statistic:                    0.1681\n",
      "Date:                Sat, 14 Jun 2025   Prob (F-statistic):              0.682\n",
      "Time:                        10:25:49   Log-Likelihood:                -35279.\n",
      "No. Observations:               50074   AIC:                         7.056e+04\n",
      "Df Residuals:                   50072   BIC:                         7.058e+04\n",
      "Df Model:                           1                                         \n",
      "Covariance Type:            nonrobust                                         \n",
      "==============================================================================\n",
      "                 coef    std err          t      P>|t|      [0.025      0.975]\n",
      "------------------------------------------------------------------------------\n",
      "const          0.6008      0.004    159.651      0.000       0.593       0.608\n",
      "X_centered     0.0002      0.000      0.410      0.682      -0.001       0.001\n",
      "==============================================================================\n",
      "Omnibus:                   192977.820   Durbin-Watson:                   1.991\n",
      "Prob(Omnibus):                  0.000   Jarque-Bera (JB):             8408.527\n",
      "Skew:                          -0.417   Prob(JB):                         0.00\n",
      "Kurtosis:                       1.174   Cond. No.                         16.6\n",
      "==============================================================================\n",
      "\n",
      "Notes:\n",
      "[1] Standard Errors assume that the covariance matrix of the errors is correctly specified.\n"
     ]
    }
   ],
   "source": [
    "print(\"BELOW cutoff:\")\n",
    "print(below_4_2_a.summary())\n",
    "print(\"\\nABOVE cutoff:\")\n",
    "print(above_4_2_a.summary())"
   ]
  },
  {
   "cell_type": "code",
   "execution_count": null,
   "id": "f9a355c9",
   "metadata": {},
   "outputs": [
    {
     "name": "stdout",
     "output_type": "stream",
     "text": [
      "Slope before cutoff: 0.010216711274456681\n",
      "Slope after cutoff: 0.005008614068236671\n"
     ]
    },
    {
     "data": {
      "image/png": "[encoded data removed]",
      "text/plain": [
       "<Figure size 640x480 with 1 Axes>"
      ]
     },
     "metadata": {},
     "output_type": "display_data"
    }
   ],
   "source": [
    "below_4_2_b, above_4_2_b = plot_rdd(df_4_2_b, cutoff=80, x_col='X2', y_col='Y2')"
   ]
  },
  {
   "cell_type": "code",
   "execution_count": 22,
   "id": "dafc15ce",
   "metadata": {},
   "outputs": [
    {
     "name": "stdout",
     "output_type": "stream",
     "text": [
      "BELOW cutoff:\n",
      "                            OLS Regression Results                            \n",
      "==============================================================================\n",
      "Dep. Variable:                     Y2   R-squared:                       0.013\n",
      "Model:                            OLS   Adj. R-squared:                  0.013\n",
      "Method:                 Least Squares   F-statistic:                     679.6\n",
      "Date:                Sat, 14 Jun 2025   Prob (F-statistic):          8.07e-149\n",
      "Time:                        10:26:18   Log-Likelihood:                 723.91\n",
      "No. Observations:               49932   AIC:                            -1444.\n",
      "Df Residuals:                   49930   BIC:                            -1426.\n",
      "Df Model:                           1                                         \n",
      "Covariance Type:            nonrobust                                         \n",
      "==============================================================================\n",
      "                 coef    std err          t      P>|t|      [0.025      0.975]\n",
      "------------------------------------------------------------------------------\n",
      "const          0.8995      0.002    488.456      0.000       0.896       0.903\n",
      "X_centered     0.0050      0.000     26.069      0.000       0.005       0.005\n",
      "==============================================================================\n",
      "Omnibus:                    35591.740   Durbin-Watson:                   1.981\n",
      "Prob(Omnibus):                  0.000   Jarque-Bera (JB):           358375.293\n",
      "Skew:                          -3.576   Prob(JB):                         0.00\n",
      "Kurtosis:                      14.005   Cond. No.                         16.7\n",
      "==============================================================================\n",
      "\n",
      "Notes:\n",
      "[1] Standard Errors assume that the covariance matrix of the errors is correctly specified.\n",
      "\n",
      "ABOVE cutoff:\n",
      "                            OLS Regression Results                            \n",
      "==============================================================================\n",
      "Dep. Variable:                     Y2   R-squared:                       0.016\n",
      "Model:                            OLS   Adj. R-squared:                  0.016\n",
      "Method:                 Least Squares   F-statistic:                     822.4\n",
      "Date:                Sat, 14 Jun 2025   Prob (F-statistic):          2.06e-179\n",
      "Time:                        10:26:18   Log-Likelihood:                -34427.\n",
      "No. Observations:               50068   AIC:                         6.886e+04\n",
      "Df Residuals:                   50066   BIC:                         6.887e+04\n",
      "Df Model:                           1                                         \n",
      "Covariance Type:            nonrobust                                         \n",
      "==============================================================================\n",
      "                 coef    std err          t      P>|t|      [0.025      0.975]\n",
      "------------------------------------------------------------------------------\n",
      "const          0.7023      0.004    196.925      0.000       0.695       0.709\n",
      "X_centered     0.0102      0.000     28.678      0.000       0.010       0.011\n",
      "==============================================================================\n",
      "Omnibus:                   219490.442   Durbin-Watson:                   1.998\n",
      "Prob(Omnibus):                  0.000   Jarque-Bera (JB):             7963.895\n",
      "Skew:                          -0.489   Prob(JB):                         0.00\n",
      "Kurtosis:                       1.309   Cond. No.                         16.7\n",
      "==============================================================================\n",
      "\n",
      "Notes:\n",
      "[1] Standard Errors assume that the covariance matrix of the errors is correctly specified.\n"
     ]
    }
   ],
   "source": [
    "print(\"BELOW cutoff:\")\n",
    "print(below_4_2_b.summary())\n",
    "print(\"\\nABOVE cutoff:\")\n",
    "print(above_4_2_b.summary())"
   ]
  }
 ],
 "metadata": {
  "kernelspec": {
   "display_name": ".venv",
   "language": "python",
   "name": "python3"
  },
  "language_info": {
   "codemirror_mode": {
    "name": "ipython",
    "version": 3
   },
   "file_extension": ".py",
   "mimetype": "text/x-python",
   "name": "python",
   "nbconvert_exporter": "python",
   "pygments_lexer": "ipython3",
   "version": "3.12.4"
  }
 },
 "nbformat": 4,
 "nbformat_minor": 5
}
