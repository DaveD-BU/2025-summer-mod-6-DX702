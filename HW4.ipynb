{
 "cells": [
  {
   "cell_type": "code",
   "execution_count": 1,
   "id": "eef98b4d",
   "metadata": {},
   "outputs": [],
   "source": [
    "import pandas as pd\n",
    "import numpy as np\n",
    "import matplotlib.pyplot as plt\n",
    "import statsmodels.api as sm\n",
    "import statsmodels.formula.api as smf\n"
   ]
  },
  {
   "cell_type": "markdown",
   "id": "52f1d018",
   "metadata": {},
   "source": [
    "## Question 1 & 2\n",
    "\n",
    "Given data about an instrumental variable, find the effect. X is the treatment, W the confounder, Y the outcome, and Z the instrument. Use homework_4.1.csv. "
   ]
  },
  {
   "cell_type": "code",
   "execution_count": 4,
   "id": "a254eb23",
   "metadata": {},
   "outputs": [],
   "source": [
    "df_4_1 = pd.read_csv('homework_4.1.csv')\n",
    "#df_4_1.head()"
   ]
  },
  {
   "cell_type": "markdown",
   "id": "db25f3fb",
   "metadata": {},
   "source": [
    "Subtract the average ﻿Y﻿ value for ﻿Z equals 1﻿ and ﻿Z equals 0﻿. Subtract the average ﻿X﻿ value for ﻿Z equals 1﻿ and ﻿Z equals 0﻿. Divide the two. "
   ]
  },
  {
   "cell_type": "code",
   "execution_count": 5,
   "id": "0ef3385e",
   "metadata": {},
   "outputs": [
    {
     "name": "stdout",
     "output_type": "stream",
     "text": [
      "Result: 1.5618587073955674\n"
     ]
    }
   ],
   "source": [
    "avg_y_z1 = df_4_1[df_4_1['Z'] == 1]['Y'].mean()\n",
    "avg_y_z0 = df_4_1[df_4_1['Z'] == 0]['Y'].mean()\n",
    "avg_x_z1 = df_4_1[df_4_1['Z'] == 1]['X'].mean()\n",
    "avg_x_z0 = df_4_1[df_4_1['Z'] == 0]['X'].mean()\n",
    "\n",
    "# Apply formula\n",
    "result = (avg_y_z1 - avg_y_z0) / (avg_x_z1 - avg_x_z0)\n",
    "print(\"Result:\", result)"
   ]
  },
  {
   "cell_type": "markdown",
   "id": "8702e758",
   "metadata": {},
   "source": [
    "Find the average ﻿Y﻿ value for ﻿Z equals 1﻿ and ﻿Z equals 0﻿ for a narrow range of ﻿W﻿. Find the average ﻿X﻿ value for ﻿Z equals 1﻿ and ﻿Z equals 0﻿ for the same narrow range of ﻿W﻿. Take the ratio to find the effect. Then average this over all the ranges of ﻿W﻿. \n"
   ]
  },
  {
   "cell_type": "code",
   "execution_count": 8,
   "id": "b90c3339",
   "metadata": {},
   "outputs": [
    {
     "name": "stdout",
     "output_type": "stream",
     "text": [
      "Estimated Effect (Average over W bins): 1.5156437668382101\n"
     ]
    }
   ],
   "source": [
    "data_sorted_4_4 = df_4_1.sort_values(\"W\")\n",
    "num_bins = 5  # You can adjust the granularity\n",
    "data_sorted_4_4[\"W_bin\"] = pd.qcut(data_sorted_4_4[\"W\"], q=num_bins, duplicates='drop')\n",
    "\n",
    "# Container for local effects\n",
    "local_effects_4_1 = []\n",
    "\n",
    "# Loop over each bin\n",
    "for bin_label, group in data_sorted_4_4.groupby(\"W_bin\", observed=True):\n",
    "    z1 = group[group[\"Z\"] == 1]\n",
    "    z0 = group[group[\"Z\"] == 0]\n",
    "\n",
    "    # Only proceed if both Z=1 and Z=0 are present in the bin\n",
    "    if len(z1) > 0 and len(z0) > 0:\n",
    "        avg_y_diff = z1[\"Y\"].mean() - z0[\"Y\"].mean()\n",
    "        avg_x_diff = z1[\"X\"].mean() - z0[\"X\"].mean()\n",
    "\n",
    "        # Avoid divide by zero\n",
    "        if avg_x_diff != 0:\n",
    "            local_effects_4_1.append(avg_y_diff / avg_x_diff)\n",
    "\n",
    "# Final estimate: average of local effects\n",
    "final_effect_4_1 = np.mean(local_effects_4_1)\n",
    "print(\"Estimated Effect (Average over W bins):\", final_effect_4_1)"
   ]
  },
  {
   "cell_type": "markdown",
   "id": "10ab956f",
   "metadata": {},
   "source": [
    "## Question 3-5\n",
    "\n",
    "Given student data involving test scores (﻿X﻿), a cutoff, and an outcome (Y), which measures whether the students got into college (as in the example in the text), determine whether the math course helps students get into college in each dataset. Use datasets homework_4.2.a and homework_4.2.b. "
   ]
  },
  {
   "cell_type": "code",
   "execution_count": 9,
   "id": "bcaa7d11",
   "metadata": {},
   "outputs": [],
   "source": [
    "df_4_2 = pd.read_csv('homework_4.2.a.csv')\n",
    "df_4_2 = pd.read_csv('homework_4.2.b.csv')"
   ]
  }
 ],
 "metadata": {
  "kernelspec": {
   "display_name": ".venv",
   "language": "python",
   "name": "python3"
  },
  "language_info": {
   "codemirror_mode": {
    "name": "ipython",
    "version": 3
   },
   "file_extension": ".py",
   "mimetype": "text/x-python",
   "name": "python",
   "nbconvert_exporter": "python",
   "pygments_lexer": "ipython3",
   "version": "3.12.4"
  }
 },
 "nbformat": 4,
 "nbformat_minor": 5
}
