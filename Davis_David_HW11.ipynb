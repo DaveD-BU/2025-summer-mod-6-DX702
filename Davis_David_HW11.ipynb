{
 "cells": [
  {
   "cell_type": "code",
   "execution_count": 4,
   "id": "8eeb7bd6",
   "metadata": {},
   "outputs": [],
   "source": [
    "import numpy as np\n",
    "import pandas as pd\n",
    "import statsmodels.formula.api as smf\n",
    "import statsmodels.api as sm\n",
    "from scipy.stats import norm"
   ]
  },
  {
   "cell_type": "code",
   "execution_count": null,
   "id": "099e34f8",
   "metadata": {},
   "outputs": [
    {
     "name": "stdout",
     "output_type": "stream",
     "text": [
      "0.8118941443978424\n"
     ]
    }
   ],
   "source": [
    "num = 1000  \n",
    "event_time = int(num / 2) \n",
    "\n",
    "R_market = np.random.normal(0, 1, num) + np.arange(num) / num  \n",
    "R_target = 2 + R_market + np.random.normal(0, 1, num) + (np.arange(num) == int(num / 2) + 1) * 2  \n",
    "results = sm.OLS(R_target[:event_time], sm.add_constant(R_market[:event_time])).fit()  \n",
    "alpha, beta = results.params  \n",
    "resid = R_target - results.predict(sm.add_constant(R_market)) \n",
    " \n",
    "print(resid[event_time + 1] / resid[:event_time].std(ddof = 2)) "
   ]
  },
  {
   "cell_type": "markdown",
   "id": "203478e4",
   "metadata": {},
   "source": [
    "## Question 1\n",
    "\n",
    "Which is closest to the probability that this t-test will be able to detect the event at event_time + 1 with the given code? "
   ]
  },
  {
   "cell_type": "code",
   "execution_count": 8,
   "id": "88d84a64",
   "metadata": {},
   "outputs": [
    {
     "name": "stdout",
     "output_type": "stream",
     "text": [
      "Estimated probability of detection: 0.514\n"
     ]
    }
   ],
   "source": [
    "# Parameters\n",
    "num = 1000\n",
    "event_time = int(num / 2)\n",
    "threshold = 1.96  # Typical t-test threshold for 5% significance\n",
    "\n",
    "# Simulate many times to estimate probability\n",
    "trials = 10000\n",
    "detections = []\n",
    "\n",
    "for _ in range(trials):\n",
    "    # Market return with drift\n",
    "    R_market = np.random.normal(0, 1, num) + np.arange(num) / num\n",
    "    \n",
    "    # Target return with +2 event at event_time + 1\n",
    "    R_target = 2 + R_market + np.random.normal(0, 1, num) + (np.arange(num) == event_time + 1) * 2\n",
    "\n",
    "    # Regress pre-event data\n",
    "    results = sm.OLS(R_target[:event_time], sm.add_constant(R_market[:event_time])).fit()\n",
    "    \n",
    "    # Full residuals based on pre-event model\n",
    "    resid = R_target - results.predict(sm.add_constant(R_market))\n",
    "    \n",
    "    # Standardized residual at event_time + 1\n",
    "    t_stat = resid[event_time + 1] / resid[:event_time].std(ddof=2)\n",
    "    \n",
    "    # Record detection if t_stat exceeds threshold\n",
    "    detections.append(t_stat > threshold)\n",
    "\n",
    "# Estimate probability of detection\n",
    "detection_probability = np.mean(detections)\n",
    "print(f\"Estimated probability of detection: {detection_probability:.3f}\")\n"
   ]
  },
  {
   "cell_type": "markdown",
   "id": "121e5a7b",
   "metadata": {},
   "source": [
    "## Question 2\n",
    "\n",
    "Use the same code but put np.random.seed(0) at the beginning of each loop to ensure that you are performing placebo tests on a fixed dataset. Perform a placebo test by setting the fictitious event_time to all possible times, while leaving the event in R_target at just the 1 time. The placebo test trains itself on the data leading up to the fictitious event. About what fraction of placebo tests seem to detect an event at the fictitious event time? "
   ]
  },
  {
   "cell_type": "code",
   "execution_count": null,
   "id": "c3cbf015",
   "metadata": {},
   "outputs": [
    {
     "name": "stdout",
     "output_type": "stream",
     "text": [
      "Estimated probability of detection: 0.027\n"
     ]
    }
   ],
   "source": [
    "# Constants\n",
    "num = 1000\n",
    "event_time = int(num / 2)\n",
    "threshold = 1.96\n",
    "placebo_results = []\n",
    "\n",
    "# Generate a fixed dataset\n",
    "np.random.seed(0)\n",
    "R_market = np.random.normal(0, 1, num) + np.arange(num) / num\n",
    "R_target = 2 + R_market + np.random.normal(0, 1, num) + (np.arange(num) == event_time + 1) * 2\n",
    "\n",
    "# Placebo test loop (avoiding edges)\n",
    "for placebo_time in range(10, num - 2):\n",
    "    # Train regression on data before placebo time\n",
    "    results = sm.OLS(R_target[:placebo_time], sm.add_constant(R_market[:placebo_time])).fit()\n",
    "\n",
    "    # Get residual at placebo_time + 1\n",
    "    resid = R_target - results.predict(sm.add_constant(R_market))\n",
    "    \n",
    "    t_stat = resid[placebo_time + 1] / resid[:placebo_time].std(ddof=2)\n",
    "\n",
    "    # Count false positive if above threshold\n",
    "    placebo_results.append(t_stat > threshold)\n",
    "    \n",
    "# Final estimate\n",
    "detection_probability = np.mean(placebo_results)\n",
    "print(f\"Estimated probability of detection: {detection_probability:.3f}\")\n"
   ]
  },
  {
   "cell_type": "markdown",
   "id": "d1e6d7df",
   "metadata": {},
   "source": [
    "## Question 3\n",
    "\n",
    "Do the same placebo test, but this time only run the test 20 times before and twenty times after the actual event. On average (over many runs of the code), what fraction of the 40 placebo tests get a higher t-value than the actual event? This time, adjust np.random.seed() to represent a different dataset when needed. "
   ]
  },
  {
   "cell_type": "code",
   "execution_count": 16,
   "id": "7783b4da",
   "metadata": {},
   "outputs": [
    {
     "name": "stdout",
     "output_type": "stream",
     "text": [
      "Average fraction of placebo t-stats exceeding the true event's: 0.073\n"
     ]
    }
   ],
   "source": [
    "# Constants\n",
    "num = 1000\n",
    "event_time = int(num / 2)  # 500\n",
    "n_runs = 1000  # Number of simulations for averaging\n",
    "\n",
    "exceed_fractions = []\n",
    "\n",
    "for run in range(n_runs):\n",
    "    np.random.seed(run)  # Different dataset each time\n",
    "\n",
    "    # Generate data\n",
    "    R_market = np.random.normal(0, 1, num) + np.arange(num) / num\n",
    "    R_target = 2 + R_market + np.random.normal(0, 1, num) + (np.arange(num) == event_time + 1) * 2\n",
    "\n",
    "    # Regress pre-event data\n",
    "    results = sm.OLS(R_target[:event_time], sm.add_constant(R_market[:event_time])).fit()\n",
    "    # Full residuals based on pre-event model\n",
    "    resid = R_target - results.predict(sm.add_constant(R_market))\n",
    "    # Standardized residual at event_time + 1\n",
    "    true_t_stat = resid[event_time + 1] / resid[:event_time].std(ddof=2)\n",
    "   \n",
    "    # 20 placebo times before and after the event\n",
    "    placebo_times = list(range(event_time - 20, event_time)) + list(range(event_time + 2, event_time + 22))\n",
    "    count_higher = 0\n",
    "\n",
    "    for placebo_time in placebo_times:\n",
    "       # Train regression on data before placebo time\n",
    "        results = sm.OLS(R_target[:placebo_time], sm.add_constant(R_market[:placebo_time])).fit()\n",
    "        # Get residual at placebo_time + 1\n",
    "        resid = R_target - results.predict(sm.add_constant(R_market))        \n",
    "        t_stat = resid[placebo_time + 1] / resid[:placebo_time].std(ddof=2)\n",
    "\n",
    "        if t_stat > true_t_stat:\n",
    "            count_higher += 1\n",
    "\n",
    "    fraction = count_higher / len(placebo_times)   \n",
    "    exceed_fractions.append(fraction)\n",
    "\n",
    "# Average over all simulations\n",
    "average_fraction = np.mean(exceed_fractions)\n",
    "print(f\"Average fraction of placebo t-stats exceeding the true event's: {average_fraction:.3f}\")\n"
   ]
  },
  {
   "cell_type": "markdown",
   "id": "65ecef79",
   "metadata": {},
   "source": [
    "## Question 4\n",
    "\n",
    "Do the same thing as in question 2, but this time use make_error with corr_const = 0.9 to generate the error for R_target instead of np.random.normal. Consider before attempting this: Would you expect this kind of dataset, where errors are not independent, to result in more or fewer false positives in the placebo tests? "
   ]
  },
  {
   "cell_type": "code",
   "execution_count": 17,
   "id": "9eb8ce53",
   "metadata": {},
   "outputs": [],
   "source": [
    "def make_error(corr_const, num):  \n",
    "    sigma = 5 * 1 / np.sqrt((1 - corr_const)**2 / (1 - corr_const**2))  \n",
    "    err = list() \n",
    "    prev = np.random.normal(0, sigma) \n",
    "    for n in range(num): \n",
    "        prev = corr_const * prev + (1 - corr_const) * np.random.normal(0, sigma) \n",
    "        err.append(prev) \n",
    "    return np.array(err) "
   ]
  },
  {
   "cell_type": "code",
   "execution_count": 18,
   "id": "68a9dae9",
   "metadata": {},
   "outputs": [
    {
     "name": "stdout",
     "output_type": "stream",
     "text": [
      "Estimated probability of detection: 0.011\n"
     ]
    }
   ],
   "source": [
    "# Constants\n",
    "num = 1000\n",
    "event_time = int(num / 2)\n",
    "threshold = 1.96\n",
    "placebo_results = []\n",
    "\n",
    "# Generate a fixed dataset\n",
    "np.random.seed(0)\n",
    "R_market = np.random.normal(0, 1, num) + np.arange(num) / num\n",
    "R_target = 2 + R_market + make_error(0.9, num) + (np.arange(num) == event_time + 1) * 2\n",
    "\n",
    "# Placebo test loop (avoiding edges)\n",
    "for placebo_time in range(10, num - 2):\n",
    "    # Train regression on data before placebo time\n",
    "    results = sm.OLS(R_target[:placebo_time], sm.add_constant(R_market[:placebo_time])).fit()\n",
    "\n",
    "    # Get residual at placebo_time + 1\n",
    "    resid = R_target - results.predict(sm.add_constant(R_market))\n",
    "    \n",
    "    t_stat = resid[placebo_time + 1] / resid[:placebo_time].std(ddof=2)\n",
    "\n",
    "    # Count false positive if above threshold\n",
    "    placebo_results.append(t_stat > threshold)\n",
    "    \n",
    "# Final estimate\n",
    "detection_probability = np.mean(placebo_results)\n",
    "print(f\"Estimated probability of detection: {detection_probability:.3f}\")"
   ]
  },
  {
   "cell_type": "markdown",
   "id": "04f376e5",
   "metadata": {},
   "source": [
    "## Homework Reflection \n",
    "\n",
    "1. Construct a dataset for an event study where the value, derivative, and second derivative of a trend all change discontinuously (suddenly) after an event.\n",
    "Build a model that tries to decide whether the event is real (has a nonzero effect) using:\n",
    "(a) only the value,\n",
    "(b) the value, derivative, and second derivative.\n",
    "Which of these models is better at detecting and/or quantifying the impact of the event?  (What might \"better\" mean here?)\n",
    "\n",
    "2. Construct a dataset in which there are three groups whose values each increase discontinuously (suddenly) by the same amount at a shared event; they change in parallel\n",
    "over time, but they have different starting values.  Create a model that combines group fixed effects with an event study, as suggested in the online reading.\n",
    "Explain what you did, how the model works, and how it accounts for both baseline differences and the common event effect."
   ]
  }
 ],
 "metadata": {
  "kernelspec": {
   "display_name": "Python 3",
   "language": "python",
   "name": "python3"
  },
  "language_info": {
   "codemirror_mode": {
    "name": "ipython",
    "version": 3
   },
   "file_extension": ".py",
   "mimetype": "text/x-python",
   "name": "python",
   "nbconvert_exporter": "python",
   "pygments_lexer": "ipython3",
   "version": "3.12.11"
  }
 },
 "nbformat": 4,
 "nbformat_minor": 5
}
