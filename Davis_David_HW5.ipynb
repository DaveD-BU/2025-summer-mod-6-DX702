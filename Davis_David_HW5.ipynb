{
 "cells": [
  {
   "cell_type": "code",
   "execution_count": 1,
   "id": "9dab08c9",
   "metadata": {},
   "outputs": [],
   "source": [
    "import pandas as pd\n",
    "import numpy as np\n",
    "import matplotlib.pyplot as plt\n",
    "import statsmodels.api as sm\n",
    "import statsmodels.formula.api as smf\n"
   ]
  },
  {
   "cell_type": "markdown",
   "id": "77ead400",
   "metadata": {},
   "source": [
    "## Questions 1 & 2 \n",
    "\n",
    "In this example, ﻿Z﻿ = the likelihood of a biking accident, ﻿Y﻿ = speed, and ﻿X﻿ = trail difficulty. We assume that ﻿X﻿ decreases ﻿Y﻿ causally because people decrease their speed on difficult trails. In addition, ﻿Y﻿ and ﻿X﻿ both increase ﻿Z﻿ causally because fast biking on difficult trails leads to accidents. Difficulty will be on a scale from 0 to 1, speed in miles per hour, and likelihood of an accident also on a scale from 0 to 1. (Based on the numbers, I'd say these trails are quite challenging!) \n",
    "\n",
    "num = 100 \n",
    "\n",
    "difficulty = np.random.uniform(0, 1, (num,)) \n",
    "\n",
    "speed = np.maximum(np.random.normal(15, 5, (num, )) - difficulty * 10, 0) \n",
    "\n",
    "accident = np.minimum(np.maximum(0.03 * speed + 0.4 * difficulty + np.random.normal(0, 0.3, (num,)), 0), 1) \n",
    "\n",
    "df = pd.DataFrame({'difficulty': difficulty, 'speed': speed, 'accident': accident}) "
   ]
  },
  {
   "cell_type": "markdown",
   "id": "8f70bf56",
   "metadata": {},
   "source": [
    "### Question 1\n",
    "\n",
    "Use ﻿X﻿ to predict ﻿Y﻿ many times via regression with different data sets. Use many samples in each prediction. Which is closest to the average coefficient of ﻿X﻿ if you do the experiment enough times? "
   ]
  },
  {
   "cell_type": "code",
   "execution_count": 6,
   "id": "e43134a6",
   "metadata": {},
   "outputs": [
    {
     "name": "stdout",
     "output_type": "stream",
     "text": [
      "Average coefficient for 1000 simulations: -9.642\n",
      "Average coefficient for 10000 simulations: -9.694\n",
      "Average coefficient for 10000 simulations: -9.694\n",
      "Average coefficient for 100000 simulations: -9.670\n",
      "Average coefficient for 100000 simulations: -9.670\n"
     ]
    },
    {
     "data": {
      "text/plain": [
       "{1000: np.float64(-9.641783560366243),\n",
       " 10000: np.float64(-9.694185500300403),\n",
       " 100000: np.float64(-9.67006571450228)}"
      ]
     },
     "metadata": {},
     "output_type": "display_data"
    }
   ],
   "source": [
    "# Compare average coefficient for 1000, 10000, and 100000 simulations\n",
    "sim_counts = [1000, 10000, 100000]\n",
    "num = 100\n",
    "results = {}\n",
    "\n",
    "for n_sim in sim_counts:\n",
    "    coefs = []\n",
    "    for _ in range(n_sim):\n",
    "        difficulty = np.random.uniform(0, 1, (num,))\n",
    "        speed = np.maximum(np.random.normal(15, 5, (num, )) - difficulty * 10, 0)\n",
    "        df_sim = pd.DataFrame({'difficulty': difficulty, 'speed': speed})\n",
    "        model = smf.ols('speed ~ difficulty', data=df_sim).fit()\n",
    "        coefs.append(model.params['difficulty'])\n",
    "    avg_coef = np.mean(coefs)\n",
    "    results[n_sim] = avg_coef\n",
    "    print(f\"Average coefficient for {n_sim} simulations: {avg_coef:.3f}\")\n",
    "\n",
    "# Optionally, show all results together\n",
    "display(results)"
   ]
  },
  {
   "cell_type": "markdown",
   "id": "f33279b3",
   "metadata": {},
   "source": [
    "### Question 2\n",
    "\n",
    "Then use ﻿X﻿ and ﻿Z﻿ to predict ﻿Y﻿ many times via regression with different datasets. Which of these is closest to the average coefficient of ﻿X﻿? "
   ]
  },
  {
   "cell_type": "code",
   "execution_count": 7,
   "id": "e773ce17",
   "metadata": {},
   "outputs": [
    {
     "name": "stdout",
     "output_type": "stream",
     "text": [
      "Average coefficient of difficulty (X) for 1000 simulations (predicting speed with X and Z): -10.262\n",
      "Average coefficient of difficulty (X) for 10000 simulations (predicting speed with X and Z): -10.323\n",
      "Average coefficient of difficulty (X) for 100000 simulations (predicting speed with X and Z): -10.326\n"
     ]
    },
    {
     "data": {
      "text/plain": [
       "{1000: np.float64(-10.262074587810785),\n",
       " 10000: np.float64(-10.323436362870163),\n",
       " 100000: np.float64(-10.326446892597016)}"
      ]
     },
     "metadata": {},
     "output_type": "display_data"
    }
   ],
   "source": [
    "# Simulate regression of speed on both difficulty (X) and accident (Z), average coefficient of X\n",
    "sim_counts = [1000, 10000, 100000]\n",
    "num = 100\n",
    "results_xz = {}\n",
    "\n",
    "for n_sim in sim_counts:\n",
    "    coefs = []\n",
    "    for _ in range(n_sim):\n",
    "        difficulty = np.random.uniform(0, 1, (num,))\n",
    "        speed = np.maximum(np.random.normal(15, 5, (num, )) - difficulty * 10, 0)\n",
    "        accident = np.minimum(np.maximum(0.03 * speed + 0.4 * difficulty + np.random.normal(0, 0.3, (num,)), 0), 1)\n",
    "        df_sim = pd.DataFrame({'difficulty': difficulty, 'speed': speed, 'accident': accident})\n",
    "        model = smf.ols('speed ~ difficulty + accident', data=df_sim).fit()\n",
    "        coefs.append(model.params['difficulty'])\n",
    "    avg_coef = np.mean(coefs)\n",
    "    results_xz[n_sim] = avg_coef\n",
    "    print(f\"Average coefficient of difficulty (X) for {n_sim} simulations (predicting speed with X and Z): {avg_coef:.3f}\")\n",
    "\n",
    "display(results_xz)"
   ]
  },
  {
   "cell_type": "markdown",
   "id": "69d71307",
   "metadata": {},
   "source": [
    "## Reflection Questions\n",
    "\n",
    "1. Draw a diagram for the following negative feedback loop:\n",
    "\n",
    "    Sweating causes body temperature to decrease.  High body temperature causes sweating.\n",
    "\n",
    "    A negative feedback loop means that one thing increases another while the second thing decreases the first.\n",
    "\n",
    "    Remember that we are using directed acyclic graphs where two things cannot directly cause each other.\n",
    "\n",
    "2. Describe an example of a positive feedback loop.  This means that one things increases another while the second things also increases the first.\n",
    "\n",
    "3. Draw a diagram for the following situation:\n",
    "\n",
    "    Lightning storms frighten away deer and bears, decreasing their population, and cause flowers to grow, increasing their population.\n",
    "    Bears eat deer, decreasing their population.\n",
    "    Deer eat flowers, decreasing their population.\n",
    "\n",
    "    Write a dataset that simulates this situation.  (Show the code.) Include noise / randomness in all cases.\n",
    "\n",
    "    Identify a backdoor path with one or more confounders for the relationship between deer and flowers.\n",
    "\n",
    "4. Draw a diagram for a situation of your own invention.  The diagram should include at least four nodes, one confounder, and one collider.  Be sure that it is acyclic (no loops).  Which node would say is most like a treatment (X)?  Which is most like an outcome (Y)?\n"
   ]
  }
 ],
 "metadata": {
  "kernelspec": {
   "display_name": ".venv",
   "language": "python",
   "name": "python3"
  },
  "language_info": {
   "codemirror_mode": {
    "name": "ipython",
    "version": 3
   },
   "file_extension": ".py",
   "mimetype": "text/x-python",
   "name": "python",
   "nbconvert_exporter": "python",
   "pygments_lexer": "ipython3",
   "version": "3.12.4"
  }
 },
 "nbformat": 4,
 "nbformat_minor": 5
}
