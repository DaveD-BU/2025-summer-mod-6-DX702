{
 "cells": [
  {
   "cell_type": "code",
   "execution_count": 2,
   "id": "9dab08c9",
   "metadata": {},
   "outputs": [],
   "source": [
    "import pandas as pd\n",
    "import numpy as np\n",
    "import matplotlib.pyplot as plt\n",
    "import statsmodels.api as sm\n",
    "import statsmodels.formula.api as smf\n"
   ]
  },
  {
   "cell_type": "markdown",
   "id": "77ead400",
   "metadata": {},
   "source": [
    "## Questions 1 & 2 \n",
    "\n",
    "In this example, ﻿Z﻿ = the likelihood of a biking accident, ﻿Y﻿ = speed, and ﻿X﻿ = trail difficulty. We assume that ﻿X﻿ decreases ﻿Y﻿ causally because people decrease their speed on difficult trails. In addition, ﻿Y﻿ and ﻿X﻿ both increase ﻿Z﻿ causally because fast biking on difficult trails leads to accidents. Difficulty will be on a scale from 0 to 1, speed in miles per hour, and likelihood of an accident also on a scale from 0 to 1. (Based on the numbers, I'd say these trails are quite challenging!) \n",
    "\n",
    "num = 100 \n",
    "\n",
    "difficulty = np.random.uniform(0, 1, (num,)) \n",
    "\n",
    "speed = np.maximum(np.random.normal(15, 5, (num, )) - difficulty * 10, 0) \n",
    "\n",
    "accident = np.minimum(np.maximum(0.03 * speed + 0.4 * difficulty + np.random.normal(0, 0.3, (num,)), 0), 1) \n",
    "\n",
    "df = pd.DataFrame({'difficulty': difficulty, 'speed': speed, 'accident': accident}) "
   ]
  },
  {
   "cell_type": "markdown",
   "id": "8f70bf56",
   "metadata": {},
   "source": [
    "### Question 1\n",
    "\n",
    "Use ﻿X﻿ to predict ﻿Y﻿ many times via regression with different data sets. Use many samples in each prediction. Which is closest to the average coefficient of ﻿X﻿ if you do the experiment enough times? "
   ]
  },
  {
   "cell_type": "code",
   "execution_count": 6,
   "id": "e43134a6",
   "metadata": {},
   "outputs": [
    {
     "name": "stdout",
     "output_type": "stream",
     "text": [
      "Average coefficient for 1000 simulations: -9.642\n",
      "Average coefficient for 10000 simulations: -9.694\n",
      "Average coefficient for 10000 simulations: -9.694\n",
      "Average coefficient for 100000 simulations: -9.670\n",
      "Average coefficient for 100000 simulations: -9.670\n"
     ]
    },
    {
     "data": {
      "text/plain": [
       "{1000: np.float64(-9.641783560366243),\n",
       " 10000: np.float64(-9.694185500300403),\n",
       " 100000: np.float64(-9.67006571450228)}"
      ]
     },
     "metadata": {},
     "output_type": "display_data"
    }
   ],
   "source": [
    "# Compare average coefficient for 1000, 10000, and 100000 simulations\n",
    "sim_counts = [1000, 10000, 100000]\n",
    "num = 100\n",
    "results = {}\n",
    "\n",
    "for n_sim in sim_counts:\n",
    "    coefs = []\n",
    "    for _ in range(n_sim):\n",
    "        difficulty = np.random.uniform(0, 1, (num,))\n",
    "        speed = np.maximum(np.random.normal(15, 5, (num, )) - difficulty * 10, 0)\n",
    "        df_sim = pd.DataFrame({'difficulty': difficulty, 'speed': speed})\n",
    "        model = smf.ols('speed ~ difficulty', data=df_sim).fit()\n",
    "        coefs.append(model.params['difficulty'])\n",
    "    avg_coef = np.mean(coefs)\n",
    "    results[n_sim] = avg_coef\n",
    "    print(f\"Average coefficient for {n_sim} simulations: {avg_coef:.3f}\")\n",
    "\n",
    "# Optionally, show all results together\n",
    "display(results)"
   ]
  },
  {
   "cell_type": "markdown",
   "id": "f33279b3",
   "metadata": {},
   "source": [
    "### Question 2\n",
    "\n",
    "Then use ﻿X﻿ and ﻿Z﻿ to predict ﻿Y﻿ many times via regression with different datasets. Which of these is closest to the average coefficient of ﻿X﻿? "
   ]
  },
  {
   "cell_type": "code",
   "execution_count": 7,
   "id": "e773ce17",
   "metadata": {},
   "outputs": [
    {
     "name": "stdout",
     "output_type": "stream",
     "text": [
      "Average coefficient of difficulty (X) for 1000 simulations (predicting speed with X and Z): -10.262\n",
      "Average coefficient of difficulty (X) for 10000 simulations (predicting speed with X and Z): -10.323\n",
      "Average coefficient of difficulty (X) for 100000 simulations (predicting speed with X and Z): -10.326\n"
     ]
    },
    {
     "data": {
      "text/plain": [
       "{1000: np.float64(-10.262074587810785),\n",
       " 10000: np.float64(-10.323436362870163),\n",
       " 100000: np.float64(-10.326446892597016)}"
      ]
     },
     "metadata": {},
     "output_type": "display_data"
    }
   ],
   "source": [
    "# Simulate regression of speed on both difficulty (X) and accident (Z), average coefficient of X\n",
    "sim_counts = [1000, 10000, 100000]\n",
    "num = 100\n",
    "results_xz = {}\n",
    "\n",
    "for n_sim in sim_counts:\n",
    "    coefs = []\n",
    "    for _ in range(n_sim):\n",
    "        difficulty = np.random.uniform(0, 1, (num,))\n",
    "        speed = np.maximum(np.random.normal(15, 5, (num, )) - difficulty * 10, 0)\n",
    "        accident = np.minimum(np.maximum(0.03 * speed + 0.4 * difficulty + np.random.normal(0, 0.3, (num,)), 0), 1)\n",
    "        df_sim = pd.DataFrame({'difficulty': difficulty, 'speed': speed, 'accident': accident})\n",
    "        model = smf.ols('speed ~ difficulty + accident', data=df_sim).fit()\n",
    "        coefs.append(model.params['difficulty'])\n",
    "    avg_coef = np.mean(coefs)\n",
    "    results_xz[n_sim] = avg_coef\n",
    "    print(f\"Average coefficient of difficulty (X) for {n_sim} simulations (predicting speed with X and Z): {avg_coef:.3f}\")\n",
    "\n",
    "display(results_xz)"
   ]
  },
  {
   "cell_type": "markdown",
   "id": "69d71307",
   "metadata": {},
   "source": [
    "## Reflection Questions\n",
    "\n",
    "1. Draw a diagram for the following negative feedback loop:\n",
    "\n",
    "    Sweating causes body temperature to decrease.  High body temperature causes sweating.\n",
    "\n",
    "    A negative feedback loop means that one thing increases another while the second thing decreases the first.\n",
    "\n",
    "    Remember that we are using directed acyclic graphs where two things cannot directly cause each other.\n",
    "\n",
    "    ### DAG for Sweating and Body Temperature\n",
    "\n",
    "   \n",
    "    Body Temperature ──► Sweating\n",
    "    Sweating ──► Body Temperature (negative effect)\n",
    "\n",
    "    When body temp rises, it eventually leads to lowering itself through sweating.\n"
   ]
  },
  {
   "cell_type": "markdown",
   "id": "fc3a13c6",
   "metadata": {},
   "source": [
    "2. Describe an example of a positive feedback loop.  This means that one things increases another while the second things also increases the first.\n",
    "\n",
    "   ### Eating ice cream and craving\n",
    "   - Eating ice cream → increases → dopamine / pleasure in brain\n",
    "   - Increased pleasure → increases → craving for more ice cream\n",
    "   - Craving for more ice cream → leads to → more eating ice cream\n",
    "\n",
    "   Eating ice cream ───▶ Pleasure / craving ───▶ More eating ice cream\n",
    "\n",
    "   Why is this positive feedback?\n",
    "   - More ice cream → more craving\n",
    "   - More craving → more ice cream\n",
    "\n",
    "   It amplifies rather than stabilizes (unlike negative feedback loops, which dampen change).\n",
    "\n",
    "\n"
   ]
  },
  {
   "cell_type": "markdown",
   "id": "815f9669",
   "metadata": {},
   "source": [
    "3. Draw a diagram for the following situation:\n",
    "\n",
    "    Lightning storms frighten away deer and bears, decreasing their population, and cause flowers to grow, increasing their population.\n",
    "    Bears eat deer, decreasing their population.\n",
    "    Deer eat flowers, decreasing their population.\n",
    "\n",
    "   #### DAG for Lightning Storms, Deer, Bears, and Flowers\n",
    "\n",
    "```markdown\n",
    "            Lightning\n",
    "           /    |     \\\n",
    "     (-) Deer  (-) Bears  (+) Flowers\n",
    "        ↓         ↓\n",
    "    (-) Flowers  (-) Deer\n"
   ]
  },
  {
   "cell_type": "markdown",
   "id": "485ce4b9",
   "metadata": {},
   "source": [
    "Write a dataset that simulates this situation.  (Show the code.) Include noise / randomness in all cases."
   ]
  },
  {
   "cell_type": "code",
   "execution_count": 3,
   "id": "a8f0f85a",
   "metadata": {},
   "outputs": [
    {
     "name": "stdout",
     "output_type": "stream",
     "text": [
      "   time  lightning        deer      bears     flowers\n",
      "0     0          0  100.000000  30.000000  200.000000\n",
      "1     1          1   86.174094  27.700993  190.458804\n",
      "2     2          0   73.888659  27.481321  175.009548\n",
      "3     3          0   68.600050  26.963051  156.189348\n",
      "4     4          0   59.507621  27.878453  144.113094\n"
     ]
    }
   ],
   "source": [
    "# Set random seed for reproducibility\n",
    "np.random.seed(42)\n",
    "\n",
    "# Parameters\n",
    "n_steps = 100\n",
    "initial_deer = 100\n",
    "initial_bears = 30\n",
    "initial_flowers = 200\n",
    "\n",
    "# Initialize arrays\n",
    "deer = [initial_deer]\n",
    "bears = [initial_bears]\n",
    "flowers = [initial_flowers]\n",
    "lightning = np.random.binomial(1, 0.2, n_steps)  # 20% chance of lightning each step\n",
    "\n",
    "for t in range(1, n_steps):\n",
    "    prev_deer = deer[-1]\n",
    "    prev_bears = bears[-1]\n",
    "    prev_flowers = flowers[-1]\n",
    "    light = lightning[t]\n",
    "\n",
    "    # Effects with noise\n",
    "    deer_change = (\n",
    "        -5 * light                     # lightning scares deer\n",
    "        - 0.3 * prev_bears             # bears eat deer\n",
    "        + np.random.normal(0, 2)      # noise\n",
    "    )\n",
    "    bears_change = (\n",
    "        -2 * light                     # lightning scares bears\n",
    "        + np.random.normal(0, 1)      # noise\n",
    "    )\n",
    "    flowers_change = (\n",
    "        +10 * light                    # lightning grows flowers\n",
    "        - 0.2 * prev_deer             # deer eat flowers\n",
    "        + np.random.normal(0, 5)      # noise\n",
    "    )\n",
    "\n",
    "    # Update populations (keep ≥ 0)\n",
    "    new_deer = max(prev_deer + deer_change, 0)\n",
    "    new_bears = max(prev_bears + bears_change, 0)\n",
    "    new_flowers = max(prev_flowers + flowers_change, 0)\n",
    "\n",
    "    deer.append(new_deer)\n",
    "    bears.append(new_bears)\n",
    "    flowers.append(new_flowers)\n",
    "\n",
    "# Create DataFrame\n",
    "df = pd.DataFrame({\n",
    "    'time': np.arange(n_steps),\n",
    "    'lightning': lightning,\n",
    "    'deer': deer,\n",
    "    'bears': bears,\n",
    "    'flowers': flowers\n",
    "})\n",
    "\n",
    "print(df.head())\n"
   ]
  },
  {
   "cell_type": "markdown",
   "id": "3baa3e5c",
   "metadata": {},
   "source": [
    "Identify a backdoor path with one or more confounders for the relationship between deer and flowers.\n",
    "\n",
    "### Backdoor Paths \n",
    "\n",
    "Deer ← Lightning → Flowers\n",
    "\n",
    "Confounder: Lightning\n",
    "\n",
    "Lightning affects both Deer and Flowers, so it opens a non-causal association between them.\n",
    "\n",
    "Deer ← Bears ← Lightning → Flowers\n",
    "\n",
    "Confounders: Lightning, via Bears\n",
    "\n",
    "Lightning reduces Bears, which reduces predation on Deer, which then affects Flowers. This is an indirect path that is not part of the direct Deer → Flowers arrow."
   ]
  },
  {
   "cell_type": "markdown",
   "id": "855b348e",
   "metadata": {},
   "source": [
    "\n",
    "4. Draw a diagram for a situation of your own invention.  The diagram should include at least four nodes, one confounder, and one collider.  Be sure that it is acyclic (no loops).  Which node would say is most like a treatment (X)?  Which is most like an outcome (Y)?\n",
    "\n",
    "```markdown\n",
    "   Diet\n",
    "    ↓         Genetics\n",
    "  Exercise → Health Markers ← Genetics\n",
    "    ↓\n",
    "  Stress\n",
    "    ↓\n",
    "Blood Pressure\n"
   ]
  },
  {
   "cell_type": "markdown",
   "id": "ff91a1e2",
   "metadata": {},
   "source": [
    "Nodes:\n",
    "\n",
    "- Exercise (X)\n",
    "- Diet\n",
    "- Stress\n",
    "- Blood Pressure (Y)\n",
    "\n",
    "Causal relationships:\n",
    "- Exercise → Blood Pressure (we want to estimate this effect)\n",
    "- Exercise → Stress (exercise reduces stress)\n",
    "- Diet → Exercise (healthier people tend to exercise more)\n",
    "- Diet → Blood Pressure (better diet lowers blood pressure)\n",
    "- Stress → Blood Pressure (stress increases blood pressure)\n",
    "- Exercise → Health Markers ← Genetics"
   ]
  }
 ],
 "metadata": {
  "kernelspec": {
   "display_name": ".venv",
   "language": "python",
   "name": "python3"
  },
  "language_info": {
   "codemirror_mode": {
    "name": "ipython",
    "version": 3
   },
   "file_extension": ".py",
   "mimetype": "text/x-python",
   "name": "python",
   "nbconvert_exporter": "python",
   "pygments_lexer": "ipython3",
   "version": "3.12.4"
  }
 },
 "nbformat": 4,
 "nbformat_minor": 5
}
