{
 "cells": [
  {
   "cell_type": "code",
   "execution_count": 1,
   "id": "58805c06",
   "metadata": {},
   "outputs": [],
   "source": [
    "import pandas as pd\n",
    "import numpy as np\n",
    "import matplotlib.pyplot as plt\n",
    "import statsmodels.api as sm\n",
    "import statsmodels.formula.api as smf\n",
    "\n",
    "from sklearn.neighbors import NearestNeighbors\n"
   ]
  },
  {
   "cell_type": "markdown",
   "id": "7fe88ada",
   "metadata": {},
   "source": [
    "## Question 1\n",
    "\n",
    "Suppose that a process can be modeled via linear regression: \n",
    "\n",
    "```python\n",
    "W = np.random.normal(1, 0, (1000,))\n",
    "X = W + np.random.normal(1, 0, (1000,)) \n",
    "Z = np.random.normal(1, 0, (1000,)) \n",
    "Y = X + Z + W + np.random.normal(1, 0, (1000,))\n",
    "```\n",
    "\n",
    "Which is closest to the correlation of ﻿X﻿ with the error term in the equation for ﻿Y﻿? "
   ]
  },
  {
   "cell_type": "code",
   "execution_count": 12,
   "id": "b231ab35",
   "metadata": {},
   "outputs": [],
   "source": [
    "np.random.seed(42)\n",
    "W = np.random.normal(1, 0, (1000,))\n",
    "X = W + np.random.normal(1, 0, (1000,))\n",
    "Z = np.random.normal(1, 0, (1000,))\n",
    "Y = X + Z + W + np.random.normal(1, 0, (1000,))"
   ]
  },
  {
   "cell_type": "code",
   "execution_count": 13,
   "id": "59f322b4",
   "metadata": {},
   "outputs": [
    {
     "data": {
      "text/plain": [
       "X    2.810072e-17\n",
       "dtype: float64"
      ]
     },
     "execution_count": 13,
     "metadata": {},
     "output_type": "execute_result"
    }
   ],
   "source": [
    "df = sm.add_constant(pd.DataFrame({\"X\": X}))\n",
    "results = sm.OLS(Y, df).fit()\n",
    "results.bse"
   ]
  },
  {
   "cell_type": "code",
   "execution_count": 18,
   "id": "e89820f9",
   "metadata": {},
   "outputs": [
    {
     "data": {
      "text/plain": [
       "0.0"
      ]
     },
     "execution_count": 18,
     "metadata": {},
     "output_type": "execute_result"
    }
   ],
   "source": [
    "#Calculate the variance of W\n",
    "W_var = np.var(W)\n",
    "W_var\n"
   ]
  },
  {
   "cell_type": "markdown",
   "id": "81ed43b6",
   "metadata": {},
   "source": [
    "## Question 2\n",
    "\n",
    "If ﻿Y﻿ is written as depending on ﻿X﻿ and ﻿Z﻿ only, ﻿W﻿ is part of the error term. Which, then, is closest to the expected correlation of ﻿X﻿ with the error term in the equation for ﻿Y﻿? "
   ]
  },
  {
   "cell_type": "code",
   "execution_count": 19,
   "id": "50b5e490",
   "metadata": {},
   "outputs": [
    {
     "name": "stdout",
     "output_type": "stream",
     "text": [
      "Correlation between X and residuals (error): 0.0000\n"
     ]
    }
   ],
   "source": [
    "n = 10000\n",
    "\n",
    "# Generate W, epsilon_X, epsilon_Y, and Z\n",
    "W = np.random.normal(0, 1, n)\n",
    "epsilon_X = np.random.normal(0, 1, n)\n",
    "epsilon_Y = np.random.normal(0, 1, n)\n",
    "Z = np.random.normal(0, 1, n)\n",
    "\n",
    "# Generate X and Y\n",
    "X = W + epsilon_X\n",
    "Y = X + Z + W + epsilon_Y  # True model includes W\n",
    "\n",
    "# Regress Y on X and Z (omitting W)\n",
    "X_Z = np.column_stack((X, Z))\n",
    "X_Z = sm.add_constant(X_Z)  # Add intercept\n",
    "model = sm.OLS(Y, X_Z).fit()\n",
    "\n",
    "# Get residuals (error term)\n",
    "residuals = model.resid\n",
    "\n",
    "# Compute correlation between X and the error term\n",
    "correlation = np.corrcoef(X, residuals)[0, 1]\n",
    "\n",
    "print(f\"Correlation between X and residuals (error): {correlation:.4f}\")"
   ]
  },
  {
   "cell_type": "markdown",
   "id": "6cd78ea6",
   "metadata": {},
   "source": [
    "## Question 3\n",
    "\n",
    "In the data frame for homework_7.1.csv, control for W by regressing ﻿Y﻿ on ﻿X﻿ and ﻿Z﻿ at the following constant values of ﻿W﻿: -1, 0, and 1. (You cannot literally use a constant value of ﻿W﻿, of course, or you will have only one data point! How will you manage this?) The question is: Is the coefficient of ﻿X﻿  "
   ]
  },
  {
   "cell_type": "code",
   "execution_count": 20,
   "id": "34a4abaa",
   "metadata": {},
   "outputs": [
    {
     "name": "stdout",
     "output_type": "stream",
     "text": [
      "   W approx    n   X coeff        p-value        R²\n",
      "0        -1  488  0.857978   1.921114e-59  0.509544\n",
      "1         0  780  1.383211  9.340880e-188  0.697200\n",
      "2         1  455  1.958097  1.297296e-164  0.817845\n"
     ]
    }
   ],
   "source": [
    "df = pd.read_csv(\"homework_7.1.csv\")  # Replace with your actual file path or string\n",
    "\n",
    "# Define target W values and tolerance\n",
    "target_W_values = [-1, 0, 1]\n",
    "tolerance = 0.1\n",
    "\n",
    "results = []\n",
    "\n",
    "for w_val in target_W_values:\n",
    "    # Subset the data for W near the target value\n",
    "    df_subset = df[(df[\"W\"] >= w_val - tolerance) & (df[\"W\"] <= w_val + tolerance)]\n",
    "    \n",
    "    # Prepare regressors and response\n",
    "    X_vars = sm.add_constant(df_subset[[\"X\", \"Z\"]])\n",
    "    y_var = df_subset[\"Y\"]\n",
    "\n",
    "    # Run OLS regression\n",
    "    model = sm.OLS(y_var, X_vars).fit()\n",
    "\n",
    "    # Store the coefficient of X\n",
    "    results.append({\n",
    "        \"W approx\": w_val,\n",
    "        \"n\": len(df_subset),\n",
    "        \"X coeff\": model.params[\"X\"],\n",
    "        \"p-value\": model.pvalues[\"X\"],\n",
    "        \"R²\": model.rsquared\n",
    "    })\n",
    "\n",
    "# Display results\n",
    "results_df = pd.DataFrame(results)\n",
    "print(results_df)"
   ]
  },
  {
   "cell_type": "markdown",
   "id": "73902cdb",
   "metadata": {},
   "source": [
    "## Question 4\n",
    "\n",
    "```python\n",
    "def make_error(corr_const, num): \n",
    " err = list() \n",
    " prev = np.random.normal(0, 1) \n",
    " for n in range(num): \n",
    "    prev = corr_const * prev + (1 - corr_const) * np.random.normal(0, 1) \n",
    "    err.append(prev) \n",
    " return np.array(err) \n",
    "```\n",
    "\n",
    "\n",
    "Create a linear regression model that uses this function as the error for both (a) the treatment, ﻿X﻿, and (b) the outcome, ﻿Y﻿. (You can use random normal error for any other covariates, if you have them.) \n",
    "As corr_const increases from 0.2 to 0.5 to 0.8, find (i) the standard deviation of the estimate of the ﻿X﻿ coefficient over many trials, and (ii) the mean of the standard error estimate of the ﻿X﻿ coefficient over many trials. \n",
    "When corr_const increases, then: \n",
    "\n",
    "Hint: don't forget to include an intercept in your regression"
   ]
  },
  {
   "cell_type": "code",
   "execution_count": 21,
   "id": "26efd3c3",
   "metadata": {},
   "outputs": [],
   "source": [
    "def make_error(corr_const, num): \n",
    " err = list() \n",
    " prev = np.random.normal(0, 1) \n",
    " for n in range(num): \n",
    "    prev = corr_const * prev + (1 - corr_const) * np.random.normal(0, 1) \n",
    "    err.append(prev) \n",
    " return np.array(err) "
   ]
  },
  {
   "cell_type": "code",
   "execution_count": 22,
   "id": "5af008af",
   "metadata": {},
   "outputs": [
    {
     "name": "stdout",
     "output_type": "stream",
     "text": [
      "   corr_const  std_dev_beta_hat  mean_std_error\n",
      "0         0.2          0.106568        0.101308\n",
      "1         0.5          0.133763        0.100808\n",
      "2         0.8          0.239446        0.100172\n"
     ]
    }
   ],
   "source": [
    "def run_simulation(corr_const, num_trials=1000, n=100):\n",
    "    beta_ests = []\n",
    "    se_ests = []\n",
    "\n",
    "    for _ in range(num_trials):\n",
    "        e_X = make_error(corr_const, n)\n",
    "        e_Y = make_error(corr_const, n)\n",
    "\n",
    "        X = 1 + e_X  # Include intercept-like component\n",
    "        Y = 2 + 3 * X + e_Y  # True model: Y = 2 + 3X + noise\n",
    "\n",
    "        # Regression\n",
    "        X_design = sm.add_constant(X)\n",
    "        model = sm.OLS(Y, X_design).fit()\n",
    "        \n",
    "        beta_ests.append(model.params[1])  # Coefficient for X\n",
    "        se_ests.append(model.bse[1])       # Standard error of X coefficient\n",
    "\n",
    "    # Compute summary statistics\n",
    "    std_beta = np.std(beta_ests)\n",
    "    mean_se = np.mean(se_ests)\n",
    "\n",
    "    return std_beta, mean_se\n",
    "\n",
    "# Run for different correlation constants\n",
    "results = []\n",
    "\n",
    "for corr in [0.2, 0.5, 0.8]:\n",
    "    std_b, mean_se = run_simulation(corr_const=corr)\n",
    "    results.append({\n",
    "        \"corr_const\": corr,\n",
    "        \"std_dev_beta_hat\": std_b,\n",
    "        \"mean_std_error\": mean_se\n",
    "    })\n",
    "\n",
    "# Show results\n",
    "df_results = pd.DataFrame(results)\n",
    "print(df_results)"
   ]
  },
  {
   "cell_type": "markdown",
   "id": "463ed97b",
   "metadata": {},
   "source": [
    "## Reflection Questions\n",
    "\n",
    "1. Create a linear regression model involving a confounder that is left out of the model.  Show whether the true correlation between $X$ and $Y$ is overestimated, underestimated, or neither.  Explain in words why this is the case for the given coefficients you have chosen.\n",
    "\n",
    "2. Perform a linear regression analysis in which one of the coefficients is zero, e.g.\n",
    "\n",
    "W = [noise]\n",
    "X = [noise]\n",
    "Y = 2 * X + [noise]\n",
    "\n",
    "And compute the p-value of a coefficient - in this case, the coefficient of W.  \n",
    "(This is the likelihood that the estimated coefficient would be as high or low as it is, given that the actual coefficient is zero.)\n",
    "If the p-value is less than 0.05, this ordinarily means that we judge the coefficient to be nonzero (incorrectly, in this case.)\n",
    "Run the analysis 1000 times and report the best (smallest) p-value.  \n",
    "If the p-value is less than 0.05, does this mean the coefficient actually is nonzero?  What is the problem with repeating the analysis?"
   ]
  }
 ],
 "metadata": {
  "kernelspec": {
   "display_name": "base",
   "language": "python",
   "name": "python3"
  },
  "language_info": {
   "codemirror_mode": {
    "name": "ipython",
    "version": 3
   },
   "file_extension": ".py",
   "mimetype": "text/x-python",
   "name": "python",
   "nbconvert_exporter": "python",
   "pygments_lexer": "ipython3",
   "version": "3.12.4"
  }
 },
 "nbformat": 4,
 "nbformat_minor": 5
}
